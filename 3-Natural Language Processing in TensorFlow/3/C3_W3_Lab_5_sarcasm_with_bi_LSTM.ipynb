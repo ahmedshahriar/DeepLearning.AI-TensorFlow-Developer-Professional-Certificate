{
 "cells": [
  {
   "cell_type": "code",
   "execution_count": null,
   "metadata": {
    "id": "zX4Kg8DUTKWO"
   },
   "outputs": [],
   "source": [
    "#@title Licensed under the Apache License, Version 2.0 (the \"License\");\n",
    "# you may not use this file except in compliance with the License.\n",
    "# You may obtain a copy of the License at\n",
    "#\n",
    "# https://www.apache.org/licenses/LICENSE-2.0\n",
    "#\n",
    "# Unless required by applicable law or agreed to in writing, software\n",
    "# distributed under the License is distributed on an \"AS IS\" BASIS,\n",
    "# WITHOUT WARRANTIES OR CONDITIONS OF ANY KIND, either express or implied.\n",
    "# See the License for the specific language governing permissions and\n",
    "# limitations under the License."
   ]
  },
  {
   "cell_type": "code",
   "execution_count": null,
   "metadata": {},
   "outputs": [],
   "source": [
    "!pip install -U --no-cache-dir gdown --pre\n",
    "# https://github.com/wkentaro/gdown/issues/43"
   ]
  },
  {
   "cell_type": "code",
   "execution_count": null,
   "metadata": {},
   "outputs": [],
   "source": [
    "# sarcasm.json\n",
    "# !gdown --no-cookies --id 1dRzdJS7-cZS4S5CuUc32MZYSLJGkkxnp "
   ]
  },
  {
   "cell_type": "markdown",
   "metadata": {
    "id": "DAAo7FxNJOv8"
   },
   "source": [
    "**IMPORTANT NOTE:** This notebook is designed to run as a Colab. Click the button on top that says, `Open in Colab`, to run this notebook as a Colab. Running the notebook on your local machine might result in some of the code blocks throwing errors."
   ]
  },
  {
   "cell_type": "markdown",
   "metadata": {
    "id": "o2nwqAkdJOv9"
   },
   "source": [
    "**Note:** This notebook can run using TensorFlow 2.5.0"
   ]
  },
  {
   "cell_type": "code",
   "execution_count": null,
   "metadata": {
    "id": "krV8SxsqJOv9"
   },
   "outputs": [],
   "source": [
    "#!pip install tensorflow==2.5.0"
   ]
  },
  {
   "cell_type": "code",
   "execution_count": 4,
   "metadata": {
    "id": "jGwXGIXvFhXW"
   },
   "outputs": [
    {
     "name": "stdout",
     "output_type": "stream",
     "text": [
      "Model: \"sequential\"\n",
      "_________________________________________________________________\n",
      "Layer (type)                 Output Shape              Param #   \n",
      "=================================================================\n",
      "embedding (Embedding)        (None, 120, 16)           16000     \n",
      "_________________________________________________________________\n",
      "bidirectional (Bidirectional (None, 64)                12544     \n",
      "_________________________________________________________________\n",
      "dense (Dense)                (None, 24)                1560      \n",
      "_________________________________________________________________\n",
      "dense_1 (Dense)              (None, 1)                 25        \n",
      "=================================================================\n",
      "Total params: 30,129\n",
      "Trainable params: 30,129\n",
      "Non-trainable params: 0\n",
      "_________________________________________________________________\n",
      "Epoch 1/50\n",
      "625/625 [==============================] - 13s 16ms/step - loss: 0.4554 - accuracy: 0.7697 - val_loss: 0.3916 - val_accuracy: 0.8183\n",
      "Epoch 2/50\n",
      "625/625 [==============================] - 9s 15ms/step - loss: 0.3628 - accuracy: 0.8349 - val_loss: 0.3854 - val_accuracy: 0.8241\n",
      "Epoch 3/50\n",
      "625/625 [==============================] - 9s 15ms/step - loss: 0.3473 - accuracy: 0.8393 - val_loss: 0.3955 - val_accuracy: 0.8193\n",
      "Epoch 4/50\n",
      "625/625 [==============================] - 9s 15ms/step - loss: 0.3265 - accuracy: 0.8555 - val_loss: 0.3715 - val_accuracy: 0.8331\n",
      "Epoch 5/50\n",
      "625/625 [==============================] - 10s 15ms/step - loss: 0.3084 - accuracy: 0.8634 - val_loss: 0.3758 - val_accuracy: 0.8283\n",
      "Epoch 6/50\n",
      "625/625 [==============================] - 9s 15ms/step - loss: 0.2926 - accuracy: 0.8694 - val_loss: 0.3862 - val_accuracy: 0.8264\n",
      "Epoch 7/50\n",
      "625/625 [==============================] - 9s 15ms/step - loss: 0.2836 - accuracy: 0.8762 - val_loss: 0.3825 - val_accuracy: 0.8317\n",
      "Epoch 8/50\n",
      "625/625 [==============================] - 9s 15ms/step - loss: 0.2745 - accuracy: 0.8812 - val_loss: 0.3910 - val_accuracy: 0.8301\n",
      "Epoch 9/50\n",
      "625/625 [==============================] - 10s 15ms/step - loss: 0.2692 - accuracy: 0.8846 - val_loss: 0.3990 - val_accuracy: 0.8293\n",
      "Epoch 10/50\n",
      "625/625 [==============================] - 10s 15ms/step - loss: 0.2633 - accuracy: 0.8868 - val_loss: 0.4134 - val_accuracy: 0.8296\n",
      "Epoch 11/50\n",
      "625/625 [==============================] - 10s 15ms/step - loss: 0.2575 - accuracy: 0.8867 - val_loss: 0.3993 - val_accuracy: 0.8278\n",
      "Epoch 12/50\n",
      "625/625 [==============================] - 9s 15ms/step - loss: 0.2520 - accuracy: 0.8917 - val_loss: 0.4207 - val_accuracy: 0.8229\n",
      "Epoch 13/50\n",
      "625/625 [==============================] - 10s 16ms/step - loss: 0.2449 - accuracy: 0.8957 - val_loss: 0.4061 - val_accuracy: 0.8274\n",
      "Epoch 14/50\n",
      "625/625 [==============================] - 10s 17ms/step - loss: 0.2393 - accuracy: 0.8973 - val_loss: 0.4090 - val_accuracy: 0.8265\n",
      "Epoch 15/50\n",
      "625/625 [==============================] - 9s 15ms/step - loss: 0.2297 - accuracy: 0.9010 - val_loss: 0.4362 - val_accuracy: 0.8238\n",
      "Epoch 16/50\n",
      "625/625 [==============================] - 9s 15ms/step - loss: 0.2231 - accuracy: 0.9046 - val_loss: 0.4435 - val_accuracy: 0.8249\n",
      "Epoch 17/50\n",
      "625/625 [==============================] - 10s 15ms/step - loss: 0.2176 - accuracy: 0.9069 - val_loss: 0.4532 - val_accuracy: 0.8258\n",
      "Epoch 18/50\n",
      "625/625 [==============================] - 9s 15ms/step - loss: 0.2080 - accuracy: 0.9108 - val_loss: 0.4988 - val_accuracy: 0.8168\n",
      "Epoch 19/50\n",
      "625/625 [==============================] - 10s 15ms/step - loss: 0.1998 - accuracy: 0.9162 - val_loss: 0.5333 - val_accuracy: 0.8204\n",
      "Epoch 20/50\n",
      "625/625 [==============================] - 9s 15ms/step - loss: 0.1921 - accuracy: 0.9190 - val_loss: 0.5407 - val_accuracy: 0.8167\n",
      "Epoch 21/50\n",
      "625/625 [==============================] - 9s 15ms/step - loss: 0.1855 - accuracy: 0.9229 - val_loss: 0.5653 - val_accuracy: 0.8131\n",
      "Epoch 22/50\n",
      "625/625 [==============================] - 10s 15ms/step - loss: 0.1781 - accuracy: 0.9261 - val_loss: 0.5880 - val_accuracy: 0.8131\n",
      "Epoch 23/50\n",
      "625/625 [==============================] - 10s 15ms/step - loss: 0.1704 - accuracy: 0.9297 - val_loss: 0.5945 - val_accuracy: 0.8141\n",
      "Epoch 24/50\n",
      "625/625 [==============================] - 10s 16ms/step - loss: 0.1609 - accuracy: 0.9352 - val_loss: 0.6217 - val_accuracy: 0.8076\n",
      "Epoch 25/50\n",
      "625/625 [==============================] - 10s 15ms/step - loss: 0.1526 - accuracy: 0.9369 - val_loss: 0.6852 - val_accuracy: 0.8086\n",
      "Epoch 26/50\n",
      "625/625 [==============================] - 9s 15ms/step - loss: 0.1488 - accuracy: 0.9396 - val_loss: 0.7296 - val_accuracy: 0.8158\n",
      "Epoch 27/50\n",
      "625/625 [==============================] - 9s 15ms/step - loss: 0.1428 - accuracy: 0.9409 - val_loss: 0.6783 - val_accuracy: 0.8123\n",
      "Epoch 28/50\n",
      "625/625 [==============================] - 9s 15ms/step - loss: 0.1370 - accuracy: 0.9443 - val_loss: 0.7678 - val_accuracy: 0.8074\n",
      "Epoch 29/50\n",
      "625/625 [==============================] - 10s 15ms/step - loss: 0.1271 - accuracy: 0.9482 - val_loss: 0.8486 - val_accuracy: 0.8022\n",
      "Epoch 30/50\n",
      "625/625 [==============================] - 10s 16ms/step - loss: 0.1202 - accuracy: 0.9516 - val_loss: 0.8611 - val_accuracy: 0.8040\n",
      "Epoch 31/50\n",
      "625/625 [==============================] - 10s 16ms/step - loss: 0.1153 - accuracy: 0.9543 - val_loss: 0.8599 - val_accuracy: 0.8049\n",
      "Epoch 32/50\n",
      "625/625 [==============================] - 11s 17ms/step - loss: 0.1135 - accuracy: 0.9535 - val_loss: 0.9068 - val_accuracy: 0.8003\n",
      "Epoch 33/50\n",
      "625/625 [==============================] - 10s 16ms/step - loss: 0.1059 - accuracy: 0.9578 - val_loss: 1.0173 - val_accuracy: 0.7994\n",
      "Epoch 34/50\n",
      "625/625 [==============================] - 9s 15ms/step - loss: 0.1004 - accuracy: 0.9614 - val_loss: 1.0084 - val_accuracy: 0.8056\n",
      "Epoch 35/50\n",
      "625/625 [==============================] - 9s 15ms/step - loss: 0.0998 - accuracy: 0.9603 - val_loss: 1.0390 - val_accuracy: 0.7956\n",
      "Epoch 36/50\n",
      "625/625 [==============================] - 9s 15ms/step - loss: 0.0940 - accuracy: 0.9632 - val_loss: 1.0497 - val_accuracy: 0.7958\n",
      "Epoch 37/50\n",
      "625/625 [==============================] - 9s 15ms/step - loss: 0.0868 - accuracy: 0.9661 - val_loss: 1.1283 - val_accuracy: 0.7970\n",
      "Epoch 38/50\n",
      "625/625 [==============================] - 9s 15ms/step - loss: 0.0837 - accuracy: 0.9668 - val_loss: 1.2269 - val_accuracy: 0.7943\n",
      "Epoch 39/50\n",
      "625/625 [==============================] - 9s 15ms/step - loss: 0.0835 - accuracy: 0.9675 - val_loss: 1.1581 - val_accuracy: 0.7925\n",
      "Epoch 40/50\n",
      "625/625 [==============================] - 9s 15ms/step - loss: 0.0837 - accuracy: 0.9671 - val_loss: 1.1599 - val_accuracy: 0.7985\n",
      "Epoch 41/50\n",
      "625/625 [==============================] - 9s 15ms/step - loss: 0.0735 - accuracy: 0.9716 - val_loss: 1.2846 - val_accuracy: 0.7882\n",
      "Epoch 42/50\n",
      "625/625 [==============================] - 10s 16ms/step - loss: 0.0715 - accuracy: 0.9715 - val_loss: 1.3281 - val_accuracy: 0.7946\n",
      "Epoch 43/50\n",
      "625/625 [==============================] - 10s 16ms/step - loss: 0.0733 - accuracy: 0.9722 - val_loss: 1.2917 - val_accuracy: 0.8006\n",
      "Epoch 44/50\n",
      "625/625 [==============================] - 10s 16ms/step - loss: 0.0661 - accuracy: 0.9739 - val_loss: 1.3155 - val_accuracy: 0.7995\n",
      "Epoch 45/50\n",
      "625/625 [==============================] - 10s 16ms/step - loss: 0.0619 - accuracy: 0.9755 - val_loss: 1.5489 - val_accuracy: 0.7983\n",
      "Epoch 46/50\n",
      "625/625 [==============================] - 10s 15ms/step - loss: 0.0661 - accuracy: 0.9743 - val_loss: 1.4472 - val_accuracy: 0.7930\n",
      "Epoch 47/50\n",
      "625/625 [==============================] - 10s 16ms/step - loss: 0.0667 - accuracy: 0.9737 - val_loss: 1.5255 - val_accuracy: 0.7891\n",
      "Epoch 48/50\n",
      "625/625 [==============================] - 10s 16ms/step - loss: 0.0592 - accuracy: 0.9762 - val_loss: 1.4123 - val_accuracy: 0.7959\n",
      "Epoch 49/50\n",
      "625/625 [==============================] - 9s 15ms/step - loss: 0.0585 - accuracy: 0.9773 - val_loss: 1.6529 - val_accuracy: 0.7854\n",
      "Epoch 50/50\n",
      "625/625 [==============================] - 10s 15ms/step - loss: 0.0544 - accuracy: 0.9780 - val_loss: 1.7233 - val_accuracy: 0.7882\n"
     ]
    }
   ],
   "source": [
    "import numpy as np\n",
    "\n",
    "import json\n",
    "import tensorflow as tf\n",
    "\n",
    "from tensorflow.keras.preprocessing.text import Tokenizer\n",
    "from tensorflow.keras.preprocessing.sequence import pad_sequences\n",
    "\n",
    "# sarcasm.json\n",
    "# !gdown --id 1dRzdJS7-cZS4S5CuUc32MZYSLJGkkxnp\n",
    "\n",
    "vocab_size = 1000\n",
    "embedding_dim = 16\n",
    "max_length = 120\n",
    "trunc_type='post'\n",
    "padding_type='post'\n",
    "oov_tok = \"<OOV>\"\n",
    "training_size = 20000\n",
    "\n",
    "\n",
    "with open(\"./sarcasm.json\", 'r') as f:\n",
    "    datastore = json.load(f)\n",
    "\n",
    "\n",
    "sentences = []\n",
    "labels = []\n",
    "urls = []\n",
    "for item in datastore:\n",
    "    sentences.append(item['headline'])\n",
    "    labels.append(item['is_sarcastic'])\n",
    "\n",
    "training_sentences = sentences[0:training_size]\n",
    "testing_sentences = sentences[training_size:]\n",
    "training_labels = labels[0:training_size]\n",
    "testing_labels = labels[training_size:]\n",
    "\n",
    "tokenizer = Tokenizer(num_words=vocab_size, oov_token=oov_tok)\n",
    "tokenizer.fit_on_texts(training_sentences)\n",
    "\n",
    "word_index = tokenizer.word_index\n",
    "\n",
    "training_sequences = tokenizer.texts_to_sequences(training_sentences)\n",
    "training_padded = pad_sequences(training_sequences, maxlen=max_length, padding=padding_type, truncating=trunc_type)\n",
    "\n",
    "testing_sequences = tokenizer.texts_to_sequences(testing_sentences)\n",
    "testing_padded = pad_sequences(testing_sequences, maxlen=max_length, padding=padding_type, truncating=trunc_type)\n",
    "\n",
    "model = tf.keras.Sequential([\n",
    "    tf.keras.layers.Embedding(vocab_size, embedding_dim, input_length=max_length),\n",
    "    tf.keras.layers.Bidirectional(tf.keras.layers.LSTM(32)),\n",
    "    tf.keras.layers.Dense(24, activation='relu'),\n",
    "    tf.keras.layers.Dense(1, activation='sigmoid')\n",
    "])\n",
    "model.compile(loss='binary_crossentropy',optimizer='adam',metrics=['accuracy'])\n",
    "model.summary()\n",
    "\n",
    "num_epochs = 50\n",
    "training_padded = np.array(training_padded)\n",
    "training_labels = np.array(training_labels)\n",
    "testing_padded = np.array(testing_padded)\n",
    "testing_labels = np.array(testing_labels)\n",
    "history = model.fit(training_padded, training_labels, epochs=num_epochs, validation_data=(testing_padded, testing_labels), verbose=1)\n"
   ]
  },
  {
   "cell_type": "code",
   "execution_count": 5,
   "metadata": {
    "id": "g9DC6dmLF8DC"
   },
   "outputs": [
    {
     "data": {
      "image/png": "[encoded data removed]",
      "text/plain": [
       "<Figure size 432x288 with 1 Axes>"
      ]
     },
     "metadata": {
      "needs_background": "light"
     },
     "output_type": "display_data"
    },
    {
     "data": {
      "image/png": "[encoded data removed]",
      "text/plain": [
       "<Figure size 432x288 with 1 Axes>"
      ]
     },
     "metadata": {
      "needs_background": "light"
     },
     "output_type": "display_data"
    }
   ],
   "source": [
    "import matplotlib.pyplot as plt\n",
    "\n",
    "\n",
    "def plot_graphs(history, string):\n",
    "    plt.plot(history.history[string])\n",
    "    plt.plot(history.history['val_'+string])\n",
    "    plt.xlabel(\"Epochs\")\n",
    "    plt.ylabel(string)\n",
    "    plt.legend([string, 'val_'+string])\n",
    "    plt.show()\n",
    "\n",
    "plot_graphs(history, 'accuracy')\n",
    "plot_graphs(history, 'loss')"
   ]
  },
  {
   "cell_type": "code",
   "execution_count": 6,
   "metadata": {
    "id": "7ZEZIUppGhdi"
   },
   "outputs": [],
   "source": [
    "model.save(\"test.h5\")"
   ]
  }
 ],
 "metadata": {
  "accelerator": "GPU",
  "colab": {
   "collapsed_sections": [],
   "name": "C3_W3_Lab_5_sarcasm_with_bi_LSTM.ipynb",
   "provenance": [],
   "toc_visible": true
  },
  "kernelspec": {
   "display_name": "Python 3 (ipykernel)",
   "language": "python",
   "name": "python3"
  },
  "language_info": {
   "codemirror_mode": {
    "name": "ipython",
    "version": 3
   },
   "file_extension": ".py",
   "mimetype": "text/x-python",
   "name": "python",
   "nbconvert_exporter": "python",
   "pygments_lexer": "ipython3",
   "version": "3.8.12"
  }
 },
 "nbformat": 4,
 "nbformat_minor": 1
}
