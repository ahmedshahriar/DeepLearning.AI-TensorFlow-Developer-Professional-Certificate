{
  "nbformat": 4,
  "nbformat_minor": 0,
  "metadata": {
    "accelerator": "GPU",
    "colab": {
      "name": "C3_W3_Assignment.ipynb",
      "provenance": [],
      "toc_visible": true
    },
    "kernelspec": {
      "display_name": "Python 3",
      "language": "python",
      "name": "python3"
    },
    "language_info": {
      "codemirror_mode": {
        "name": "ipython",
        "version": 3
      },
      "file_extension": ".py",
      "mimetype": "text/x-python",
      "name": "python",
      "nbconvert_exporter": "python",
      "pygments_lexer": "ipython3",
      "version": "3.8.5"
    }
  },
  "cells": [
    {
      "cell_type": "code",
      "metadata": {
        "id": "zX4Kg8DUTKWO"
      },
      "source": [
        "#@title Licensed under the Apache License, Version 2.0 (the \"License\");\n",
        "# you may not use this file except in compliance with the License.\n",
        "# You may obtain a copy of the License at\n",
        "#\n",
        "# https://www.apache.org/licenses/LICENSE-2.0\n",
        "#\n",
        "# Unless required by applicable law or agreed to in writing, software\n",
        "# distributed under the License is distributed on an \"AS IS\" BASIS,\n",
        "# WITHOUT WARRANTIES OR CONDITIONS OF ANY KIND, either express or implied.\n",
        "# See the License for the specific language governing permissions and\n",
        "# limitations under the License."
      ],
      "execution_count": 1,
      "outputs": []
    },
    {
      "cell_type": "markdown",
      "metadata": {
        "id": "gnU1TV9kV5f9"
      },
      "source": [
        "**Note:** This notebook can run using TensorFlow 2.5.0"
      ]
    },
    {
      "cell_type": "code",
      "metadata": {
        "id": "qTZDRvo5V5f9"
      },
      "source": [
        "#!pip install tensorflow==2.5.0"
      ],
      "execution_count": 2,
      "outputs": []
    },
    {
      "cell_type": "code",
      "metadata": {
        "id": "hmA6EzkQJ5jt"
      },
      "source": [
        "import json\n",
        "import tensorflow as tf\n",
        "import csv\n",
        "import random\n",
        "import numpy as np\n",
        "\n",
        "from tensorflow.keras.preprocessing.text import Tokenizer\n",
        "from tensorflow.keras.preprocessing.sequence import pad_sequences\n",
        "from tensorflow.keras.utils import to_categorical\n",
        "from tensorflow.keras import regularizers\n",
        "\n",
        "\n",
        "embedding_dim = 100\n",
        "max_length = 16\n",
        "trunc_type='post'\n",
        "padding_type='post'\n",
        "oov_tok = \"<OOV>\"\n",
        "training_size= 160000 #Your dataset size here. Experiment using smaller values (i.e. 16000), but don't forget to train on at least 160000 to see the best effects\n",
        "test_portion=.1\n",
        "\n",
        "corpus = []\n"
      ],
      "execution_count": 3,
      "outputs": []
    },
    {
      "cell_type": "code",
      "source": [
        "%%capture\n",
        "!pip install -U gdown --no-cache"
      ],
      "metadata": {
        "id": "yGHjjQfhCAAt"
      },
      "execution_count": 4,
      "outputs": []
    },
    {
      "cell_type": "code",
      "metadata": {
        "id": "bM0l_dORKqE0",
        "colab": {
          "base_uri": "https://localhost:8080/"
        },
        "outputId": "cb1c7dff-a868-46de-a0af-84b0b810d48d"
      },
      "source": [
        "# Note that I cleaned the Stanford dataset to remove LATIN1 encoding to make it easier for Python CSV reader\n",
        "# You can do that yourself with:\n",
        "# iconv -f LATIN1 -t UTF8 training.1600000.processed.noemoticon.csv -o training_cleaned.csv\n",
        "\n",
        "# training_cleaned.csv\n",
        "!gdown --id 1wd8KaeCSHxt-nEpMeuHFSNWrDp8joUXJ\n",
        "\n",
        "num_sentences = 0\n",
        "\n",
        "with open(\"./training_cleaned.csv\") as csvfile:\n",
        "    reader = csv.reader(csvfile, delimiter=',')\n",
        "    for row in reader:\n",
        "        list_item=[]\n",
        "        \n",
        "        ### START CODE HERE\n",
        "        #Create list items where the first item is the text, found in row[5], and the second is the label. Note that the label is a '0' or a '4' in the text. When it's the former, make\n",
        "        # your label to be 0, otherwise 1. Keep a count of the number of sentences in num_sentences\n",
        "        \n",
        "        list_item.append(row[5])\n",
        "        if row[0] == '0':\n",
        "          list_item.append(0)\n",
        "        else:\n",
        "          list_item.append(1)\n",
        "        ### END CODE HERE\n",
        "        \n",
        "        num_sentences = num_sentences + 1\n",
        "        corpus.append(list_item)\n"
      ],
      "execution_count": 5,
      "outputs": [
        {
          "output_type": "stream",
          "name": "stdout",
          "text": [
            "Downloading...\n",
            "From: https://drive.google.com/uc?id=1wd8KaeCSHxt-nEpMeuHFSNWrDp8joUXJ\n",
            "To: /content/training_cleaned.csv\n",
            "100% 239M/239M [00:00<00:00, 271MB/s]\n"
          ]
        }
      ]
    },
    {
      "cell_type": "code",
      "metadata": {
        "id": "3kxblBUjEUX-",
        "colab": {
          "base_uri": "https://localhost:8080/"
        },
        "outputId": "0e11dad7-ae77-423f-cec7-080d8424ec5b"
      },
      "source": [
        "print(num_sentences)\n",
        "print(len(corpus))\n",
        "print(corpus[1])\n",
        "\n",
        "# Expected Output:\n",
        "# 1600000\n",
        "# 1600000\n",
        "# [\"is upset that he can't update his Facebook by texting it... and might cry as a result  School today also. Blah!\", 0]"
      ],
      "execution_count": 6,
      "outputs": [
        {
          "output_type": "stream",
          "name": "stdout",
          "text": [
            "1600000\n",
            "1600000\n",
            "[\"is upset that he can't update his Facebook by texting it... and might cry as a result  School today also. Blah!\", 0]\n"
          ]
        }
      ]
    },
    {
      "cell_type": "code",
      "source": [
        "corpus[0][1]"
      ],
      "metadata": {
        "colab": {
          "base_uri": "https://localhost:8080/"
        },
        "id": "kcgPfSeSCKue",
        "outputId": "5af428f4-124e-42a4-ab39-d78c1779ff6f"
      },
      "execution_count": 7,
      "outputs": [
        {
          "output_type": "execute_result",
          "data": {
            "text/plain": [
              "0"
            ]
          },
          "metadata": {},
          "execution_count": 7
        }
      ]
    },
    {
      "cell_type": "code",
      "source": [
        "int(test_portion * training_size)"
      ],
      "metadata": {
        "colab": {
          "base_uri": "https://localhost:8080/"
        },
        "id": "rs_NoZZWEF94",
        "outputId": "5d970c57-f8de-4e7d-dc0d-a011df1911c3"
      },
      "execution_count": 8,
      "outputs": [
        {
          "output_type": "execute_result",
          "data": {
            "text/plain": [
              "16000"
            ]
          },
          "metadata": {},
          "execution_count": 8
        }
      ]
    },
    {
      "cell_type": "code",
      "metadata": {
        "id": "ohOGz24lsNAD"
      },
      "source": [
        "sentences=[]\n",
        "labels=[]\n",
        "random.shuffle(corpus)\n",
        "for x in range(training_size):\n",
        "    sentences.append(corpus[x][0])# YOUR CODE HERE)\n",
        "    labels.append(corpus[x][1]) # YOUR CODE HERE)\n",
        "\n",
        "\n",
        "tokenizer = Tokenizer()\n",
        "tokenizer.fit_on_texts(sentences) # YOUR CODE HERE)\n",
        "\n",
        "word_index = tokenizer.word_index\n",
        "vocab_size=len(word_index) # YOUR CODE HERE)\n",
        "\n",
        "sequences = tokenizer.texts_to_sequences(sentences) # YOUR CODE HERE)\n",
        "padded = pad_sequences(sequences, maxlen=max_length, padding=padding_type, truncating=trunc_type) # YOUR CODE HERE)\n",
        "\n",
        "split = int(test_portion * training_size)\n",
        "\n",
        "test_sequences = padded[0:split]# YOUR CODE HERE]\n",
        "training_sequences = padded[split:training_size]# YOUR CODE HERE]\n",
        "\n",
        "test_labels = labels[0:split]# YOUR CODE HERE]\n",
        "training_labels = labels[split:training_size]# YOUR CODE HERE]"
      ],
      "execution_count": 9,
      "outputs": []
    },
    {
      "cell_type": "code",
      "metadata": {
        "id": "gIrtRem1En3N",
        "colab": {
          "base_uri": "https://localhost:8080/"
        },
        "outputId": "c79c676d-75ed-482c-e848-189009218c76"
      },
      "source": [
        "print(vocab_size)\n",
        "print(word_index['i'])\n",
        "# Expected Output\n",
        "# 138856\n",
        "# 1"
      ],
      "execution_count": 10,
      "outputs": [
        {
          "output_type": "stream",
          "name": "stdout",
          "text": [
            "138870\n",
            "1\n"
          ]
        }
      ]
    },
    {
      "cell_type": "code",
      "metadata": {
        "id": "C1zdgJkusRh0",
        "colab": {
          "base_uri": "https://localhost:8080/"
        },
        "outputId": "a0c689fd-1413-4d4d-8e2d-63b61b048c56"
      },
      "source": [
        "# Note this is the 100 dimension version of GloVe from Stanford\n",
        "\n",
        "# glove.6B.100d.txt\n",
        "!gdown --id 1W5vZy2etitAblLdFn8_DxnsQKzfFJ98g\n",
        "\n",
        "embeddings_index = {};\n",
        "with open('./glove.6B.100d.txt') as f:\n",
        "    for line in f:\n",
        "        values = line.split();\n",
        "        word = values[0];\n",
        "        coefs = np.asarray(values[1:], dtype='float32');\n",
        "        embeddings_index[word] = coefs;\n",
        "\n",
        "embeddings_matrix = np.zeros((vocab_size+1, embedding_dim));\n",
        "for word, i in word_index.items():\n",
        "    embedding_vector = embeddings_index.get(word);\n",
        "    if embedding_vector is not None:\n",
        "        embeddings_matrix[i] = embedding_vector;"
      ],
      "execution_count": 11,
      "outputs": [
        {
          "output_type": "stream",
          "name": "stdout",
          "text": [
            "Downloading...\n",
            "From: https://drive.google.com/uc?id=1W5vZy2etitAblLdFn8_DxnsQKzfFJ98g\n",
            "To: /content/glove.6B.100d.txt\n",
            "100% 347M/347M [00:01<00:00, 228MB/s]\n"
          ]
        }
      ]
    },
    {
      "cell_type": "code",
      "metadata": {
        "id": "71NLk_lpFLNt",
        "colab": {
          "base_uri": "https://localhost:8080/"
        },
        "outputId": "72c9b12d-0be8-4dfa-d3b4-a47517880f02"
      },
      "source": [
        "print(len(embeddings_matrix))\n",
        "# Expected Output\n",
        "# 138857"
      ],
      "execution_count": 12,
      "outputs": [
        {
          "output_type": "stream",
          "name": "stdout",
          "text": [
            "138871\n"
          ]
        }
      ]
    },
    {
      "cell_type": "code",
      "metadata": {
        "id": "iKKvbuEBOGFz",
        "colab": {
          "base_uri": "https://localhost:8080/"
        },
        "outputId": "2d18e4d9-2ddb-46d3-faef-e2b2b9d6f6e6"
      },
      "source": [
        "model = tf.keras.Sequential([\n",
        "    tf.keras.layers.Embedding(vocab_size+1, embedding_dim, input_length=max_length, weights=[embeddings_matrix], trainable=False), # vocab_size+1 to catch oov/outer words\n",
        "    tf.keras.layers.Dropout(0.3),\n",
        "    tf.keras.layers.Conv1D(64, 5, activation='relu'),\n",
        "    tf.keras.layers.MaxPooling1D(pool_size=4),\n",
        "    tf.keras.layers.LSTM(64),\n",
        "    tf.keras.layers.Dense(1, activation='sigmoid')\n",
        "    \n",
        "    # YOUR CODE HERE - experiment with combining different types, such as convolutions and LSTMs\n",
        "])\n",
        "model.compile(loss='binary_crossentropy', optimizer='adam', metrics=['accuracy']) # YOUR CODE HERE)\n",
        "model.summary()\n",
        "\n",
        "training_padded = np.array(training_sequences)\n",
        "test_padded = np.array(test_sequences)\n",
        "training_labels = np.array(training_labels)\n",
        "test_labels = np.array(test_labels)\n",
        "\n",
        "num_epochs = 50\n",
        "history = model.fit(training_padded, training_labels, epochs=num_epochs, validation_data=(test_padded, test_labels), verbose=1)\n",
        "\n",
        "print(\"Training Complete\")"
      ],
      "execution_count": 13,
      "outputs": [
        {
          "output_type": "stream",
          "name": "stdout",
          "text": [
            "Model: \"sequential\"\n",
            "_________________________________________________________________\n",
            " Layer (type)                Output Shape              Param #   \n",
            "=================================================================\n",
            " embedding (Embedding)       (None, 16, 100)           13887100  \n",
            "                                                                 \n",
            " dropout (Dropout)           (None, 16, 100)           0         \n",
            "                                                                 \n",
            " conv1d (Conv1D)             (None, 12, 64)            32064     \n",
            "                                                                 \n",
            " max_pooling1d (MaxPooling1D  (None, 3, 64)            0         \n",
            " )                                                               \n",
            "                                                                 \n",
            " lstm (LSTM)                 (None, 64)                33024     \n",
            "                                                                 \n",
            " dense (Dense)               (None, 1)                 65        \n",
            "                                                                 \n",
            "=================================================================\n",
            "Total params: 13,952,253\n",
            "Trainable params: 65,153\n",
            "Non-trainable params: 13,887,100\n",
            "_________________________________________________________________\n",
            "Epoch 1/50\n",
            "4500/4500 [==============================] - 29s 4ms/step - loss: 0.5767 - accuracy: 0.6918 - val_loss: 0.5252 - val_accuracy: 0.7320\n",
            "Epoch 2/50\n",
            "4500/4500 [==============================] - 18s 4ms/step - loss: 0.5389 - accuracy: 0.7233 - val_loss: 0.5130 - val_accuracy: 0.7434\n",
            "Epoch 3/50\n",
            "4500/4500 [==============================] - 17s 4ms/step - loss: 0.5237 - accuracy: 0.7343 - val_loss: 0.5072 - val_accuracy: 0.7486\n",
            "Epoch 4/50\n",
            "4500/4500 [==============================] - 17s 4ms/step - loss: 0.5149 - accuracy: 0.7410 - val_loss: 0.5017 - val_accuracy: 0.7504\n",
            "Epoch 5/50\n",
            "4500/4500 [==============================] - 17s 4ms/step - loss: 0.5063 - accuracy: 0.7462 - val_loss: 0.4988 - val_accuracy: 0.7538\n",
            "Epoch 6/50\n",
            "4500/4500 [==============================] - 17s 4ms/step - loss: 0.5023 - accuracy: 0.7501 - val_loss: 0.4992 - val_accuracy: 0.7532\n",
            "Epoch 7/50\n",
            "4500/4500 [==============================] - 18s 4ms/step - loss: 0.4974 - accuracy: 0.7531 - val_loss: 0.4960 - val_accuracy: 0.7556\n",
            "Epoch 8/50\n",
            "4500/4500 [==============================] - 17s 4ms/step - loss: 0.4945 - accuracy: 0.7543 - val_loss: 0.4939 - val_accuracy: 0.7586\n",
            "Epoch 9/50\n",
            "4500/4500 [==============================] - 17s 4ms/step - loss: 0.4902 - accuracy: 0.7569 - val_loss: 0.5058 - val_accuracy: 0.7521\n",
            "Epoch 10/50\n",
            "4500/4500 [==============================] - 17s 4ms/step - loss: 0.4868 - accuracy: 0.7599 - val_loss: 0.4975 - val_accuracy: 0.7544\n",
            "Epoch 11/50\n",
            "4500/4500 [==============================] - 17s 4ms/step - loss: 0.4838 - accuracy: 0.7623 - val_loss: 0.4980 - val_accuracy: 0.7548\n",
            "Epoch 12/50\n",
            "4500/4500 [==============================] - 17s 4ms/step - loss: 0.4822 - accuracy: 0.7614 - val_loss: 0.4968 - val_accuracy: 0.7574\n",
            "Epoch 13/50\n",
            "4500/4500 [==============================] - 17s 4ms/step - loss: 0.4805 - accuracy: 0.7624 - val_loss: 0.4971 - val_accuracy: 0.7586\n",
            "Epoch 14/50\n",
            "4500/4500 [==============================] - 17s 4ms/step - loss: 0.4797 - accuracy: 0.7648 - val_loss: 0.4965 - val_accuracy: 0.7560\n",
            "Epoch 15/50\n",
            "4500/4500 [==============================] - 17s 4ms/step - loss: 0.4753 - accuracy: 0.7670 - val_loss: 0.5011 - val_accuracy: 0.7567\n",
            "Epoch 16/50\n",
            "4500/4500 [==============================] - 17s 4ms/step - loss: 0.4750 - accuracy: 0.7675 - val_loss: 0.4961 - val_accuracy: 0.7576\n",
            "Epoch 17/50\n",
            "4500/4500 [==============================] - 17s 4ms/step - loss: 0.4748 - accuracy: 0.7676 - val_loss: 0.4989 - val_accuracy: 0.7559\n",
            "Epoch 18/50\n",
            "4500/4500 [==============================] - 17s 4ms/step - loss: 0.4721 - accuracy: 0.7693 - val_loss: 0.4982 - val_accuracy: 0.7578\n",
            "Epoch 19/50\n",
            "4500/4500 [==============================] - 17s 4ms/step - loss: 0.4696 - accuracy: 0.7702 - val_loss: 0.5005 - val_accuracy: 0.7594\n",
            "Epoch 20/50\n",
            "4500/4500 [==============================] - 17s 4ms/step - loss: 0.4712 - accuracy: 0.7699 - val_loss: 0.4968 - val_accuracy: 0.7584\n",
            "Epoch 21/50\n",
            "4500/4500 [==============================] - 17s 4ms/step - loss: 0.4707 - accuracy: 0.7702 - val_loss: 0.5039 - val_accuracy: 0.7542\n",
            "Epoch 22/50\n",
            "4500/4500 [==============================] - 17s 4ms/step - loss: 0.4692 - accuracy: 0.7713 - val_loss: 0.4990 - val_accuracy: 0.7591\n",
            "Epoch 23/50\n",
            "4500/4500 [==============================] - 17s 4ms/step - loss: 0.4687 - accuracy: 0.7701 - val_loss: 0.4994 - val_accuracy: 0.7571\n",
            "Epoch 24/50\n",
            "4500/4500 [==============================] - 17s 4ms/step - loss: 0.4674 - accuracy: 0.7717 - val_loss: 0.5008 - val_accuracy: 0.7578\n",
            "Epoch 25/50\n",
            "4500/4500 [==============================] - 17s 4ms/step - loss: 0.4672 - accuracy: 0.7719 - val_loss: 0.5000 - val_accuracy: 0.7571\n",
            "Epoch 26/50\n",
            "4500/4500 [==============================] - 17s 4ms/step - loss: 0.4663 - accuracy: 0.7747 - val_loss: 0.4958 - val_accuracy: 0.7583\n",
            "Epoch 27/50\n",
            "4500/4500 [==============================] - 17s 4ms/step - loss: 0.4653 - accuracy: 0.7732 - val_loss: 0.5006 - val_accuracy: 0.7554\n",
            "Epoch 28/50\n",
            "4500/4500 [==============================] - 17s 4ms/step - loss: 0.4648 - accuracy: 0.7744 - val_loss: 0.5017 - val_accuracy: 0.7556\n",
            "Epoch 29/50\n",
            "4500/4500 [==============================] - 17s 4ms/step - loss: 0.4651 - accuracy: 0.7739 - val_loss: 0.5043 - val_accuracy: 0.7556\n",
            "Epoch 30/50\n",
            "4500/4500 [==============================] - 17s 4ms/step - loss: 0.4633 - accuracy: 0.7747 - val_loss: 0.4996 - val_accuracy: 0.7590\n",
            "Epoch 31/50\n",
            "4500/4500 [==============================] - 17s 4ms/step - loss: 0.4636 - accuracy: 0.7742 - val_loss: 0.5032 - val_accuracy: 0.7590\n",
            "Epoch 32/50\n",
            "4500/4500 [==============================] - 17s 4ms/step - loss: 0.4628 - accuracy: 0.7743 - val_loss: 0.5030 - val_accuracy: 0.7588\n",
            "Epoch 33/50\n",
            "4500/4500 [==============================] - 17s 4ms/step - loss: 0.4634 - accuracy: 0.7743 - val_loss: 0.5001 - val_accuracy: 0.7601\n",
            "Epoch 34/50\n",
            "4500/4500 [==============================] - 17s 4ms/step - loss: 0.4631 - accuracy: 0.7746 - val_loss: 0.5051 - val_accuracy: 0.7542\n",
            "Epoch 35/50\n",
            "4500/4500 [==============================] - 17s 4ms/step - loss: 0.4620 - accuracy: 0.7758 - val_loss: 0.5021 - val_accuracy: 0.7537\n",
            "Epoch 36/50\n",
            "4500/4500 [==============================] - 17s 4ms/step - loss: 0.4629 - accuracy: 0.7747 - val_loss: 0.5028 - val_accuracy: 0.7565\n",
            "Epoch 37/50\n",
            "4500/4500 [==============================] - 17s 4ms/step - loss: 0.4617 - accuracy: 0.7744 - val_loss: 0.5020 - val_accuracy: 0.7575\n",
            "Epoch 38/50\n",
            "4500/4500 [==============================] - 17s 4ms/step - loss: 0.4613 - accuracy: 0.7759 - val_loss: 0.5008 - val_accuracy: 0.7581\n",
            "Epoch 39/50\n",
            "4500/4500 [==============================] - 17s 4ms/step - loss: 0.4610 - accuracy: 0.7760 - val_loss: 0.5003 - val_accuracy: 0.7569\n",
            "Epoch 40/50\n",
            "4500/4500 [==============================] - 17s 4ms/step - loss: 0.4600 - accuracy: 0.7768 - val_loss: 0.4994 - val_accuracy: 0.7586\n",
            "Epoch 41/50\n",
            "4500/4500 [==============================] - 17s 4ms/step - loss: 0.4610 - accuracy: 0.7764 - val_loss: 0.5030 - val_accuracy: 0.7591\n",
            "Epoch 42/50\n",
            "4500/4500 [==============================] - 17s 4ms/step - loss: 0.4598 - accuracy: 0.7778 - val_loss: 0.4996 - val_accuracy: 0.7565\n",
            "Epoch 43/50\n",
            "4500/4500 [==============================] - 17s 4ms/step - loss: 0.4600 - accuracy: 0.7760 - val_loss: 0.5061 - val_accuracy: 0.7561\n",
            "Epoch 44/50\n",
            "4500/4500 [==============================] - 17s 4ms/step - loss: 0.4590 - accuracy: 0.7779 - val_loss: 0.5069 - val_accuracy: 0.7520\n",
            "Epoch 45/50\n",
            "4500/4500 [==============================] - 17s 4ms/step - loss: 0.4610 - accuracy: 0.7764 - val_loss: 0.5065 - val_accuracy: 0.7546\n",
            "Epoch 46/50\n",
            "4500/4500 [==============================] - 17s 4ms/step - loss: 0.4586 - accuracy: 0.7767 - val_loss: 0.5004 - val_accuracy: 0.7589\n",
            "Epoch 47/50\n",
            "4500/4500 [==============================] - 17s 4ms/step - loss: 0.4596 - accuracy: 0.7773 - val_loss: 0.5028 - val_accuracy: 0.7567\n",
            "Epoch 48/50\n",
            "4500/4500 [==============================] - 17s 4ms/step - loss: 0.4586 - accuracy: 0.7777 - val_loss: 0.5052 - val_accuracy: 0.7548\n",
            "Epoch 49/50\n",
            "4500/4500 [==============================] - 17s 4ms/step - loss: 0.4571 - accuracy: 0.7788 - val_loss: 0.5020 - val_accuracy: 0.7545\n",
            "Epoch 50/50\n",
            "4500/4500 [==============================] - 17s 4ms/step - loss: 0.4586 - accuracy: 0.7766 - val_loss: 0.5031 - val_accuracy: 0.7586\n",
            "Training Complete\n"
          ]
        }
      ]
    },
    {
      "cell_type": "code",
      "metadata": {
        "id": "qxju4ItJKO8F",
        "colab": {
          "base_uri": "https://localhost:8080/",
          "height": 608
        },
        "outputId": "9e5b3f39-3be6-4592-efdc-56db4ff69f87"
      },
      "source": [
        "import matplotlib.image  as mpimg\n",
        "import matplotlib.pyplot as plt\n",
        "\n",
        "#-----------------------------------------------------------\n",
        "# Retrieve a list of list results on training and test data\n",
        "# sets for each training epoch\n",
        "#-----------------------------------------------------------\n",
        "acc=history.history['accuracy']\n",
        "val_acc=history.history['val_accuracy']\n",
        "loss=history.history['loss']\n",
        "val_loss=history.history['val_loss']\n",
        "\n",
        "epochs=range(len(acc)) # Get number of epochs\n",
        "\n",
        "#------------------------------------------------\n",
        "# Plot training and validation accuracy per epoch\n",
        "#------------------------------------------------\n",
        "plt.plot(epochs, acc, 'r')\n",
        "plt.plot(epochs, val_acc, 'b')\n",
        "plt.title('Training and validation accuracy')\n",
        "plt.xlabel(\"Epochs\")\n",
        "plt.ylabel(\"Accuracy\")\n",
        "plt.legend([\"Accuracy\", \"Validation Accuracy\"])\n",
        "\n",
        "plt.figure()\n",
        "\n",
        "#------------------------------------------------\n",
        "# Plot training and validation loss per epoch\n",
        "#------------------------------------------------\n",
        "plt.plot(epochs, loss, 'r')\n",
        "plt.plot(epochs, val_loss, 'b')\n",
        "plt.title('Training and validation loss')\n",
        "plt.xlabel(\"Epochs\")\n",
        "plt.ylabel(\"Loss\")\n",
        "plt.legend([\"Loss\", \"Validation Loss\"])\n",
        "\n",
        "plt.figure()\n",
        "\n",
        "\n",
        "# Expected Output\n",
        "# A chart where the validation loss does not increase sharply!"
      ],
      "execution_count": 14,
      "outputs": [
        {
          "output_type": "execute_result",
          "data": {
            "text/plain": [
              "<Figure size 432x288 with 0 Axes>"
            ]
          },
          "metadata": {},
          "execution_count": 14
        },
        {
          "output_type": "display_data",
          "data": {
            "image/png": "[encoded data removed]",
            "text/plain": [
              "<Figure size 432x288 with 1 Axes>"
            ]
          },
          "metadata": {
            "needs_background": "light"
          }
        },
        {
          "output_type": "display_data",
          "data": {
            "image/png": "[encoded data removed]",
            "text/plain": [
              "<Figure size 432x288 with 1 Axes>"
            ]
          },
          "metadata": {
            "needs_background": "light"
          }
        },
        {
          "output_type": "display_data",
          "data": {
            "text/plain": [
              "<Figure size 432x288 with 0 Axes>"
            ]
          },
          "metadata": {}
        }
      ]
    }
  ]
}