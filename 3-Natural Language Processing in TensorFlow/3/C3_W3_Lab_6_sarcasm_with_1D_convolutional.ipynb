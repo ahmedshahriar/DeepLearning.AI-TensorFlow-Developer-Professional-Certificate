{
 "cells": [
  {
   "cell_type": "code",
   "execution_count": 1,
   "metadata": {
    "id": "zX4Kg8DUTKWO"
   },
   "outputs": [],
   "source": [
    "#@title Licensed under the Apache License, Version 2.0 (the \"License\");\n",
    "# you may not use this file except in compliance with the License.\n",
    "# You may obtain a copy of the License at\n",
    "#\n",
    "# https://www.apache.org/licenses/LICENSE-2.0\n",
    "#\n",
    "# Unless required by applicable law or agreed to in writing, software\n",
    "# distributed under the License is distributed on an \"AS IS\" BASIS,\n",
    "# WITHOUT WARRANTIES OR CONDITIONS OF ANY KIND, either express or implied.\n",
    "# See the License for the specific language governing permissions and\n",
    "# limitations under the License."
   ]
  },
  {
   "cell_type": "markdown",
   "metadata": {
    "id": "mUPYeXlcPewR"
   },
   "source": [
    "**IMPORTANT NOTE:** This notebook is designed to run as a Colab. Click the button on top that says, `Open in Colab`, to run this notebook as a Colab. Running the notebook on your local machine might result in some of the code blocks throwing errors."
   ]
  },
  {
   "cell_type": "markdown",
   "metadata": {
    "id": "raWPUZrePewR"
   },
   "source": [
    "**Note:** This notebook can run using TensorFlow 2.5.0"
   ]
  },
  {
   "cell_type": "code",
   "execution_count": 2,
   "metadata": {
    "id": "EmYnth-EPewR"
   },
   "outputs": [],
   "source": [
    "#!pip install tensorflow==2.5.0"
   ]
  },
  {
   "cell_type": "code",
   "execution_count": 1,
   "metadata": {
    "colab": {
     "base_uri": "https://localhost:8080/"
    },
    "id": "jGwXGIXvFhXW",
    "outputId": "b4eec147-3416-4c4c-fe12-659bc72b30d9",
    "scrolled": false
   },
   "outputs": [
    {
     "name": "stdout",
     "output_type": "stream",
     "text": [
      "Model: \"sequential\"\n",
      "_________________________________________________________________\n",
      "Layer (type)                 Output Shape              Param #   \n",
      "=================================================================\n",
      "embedding (Embedding)        (None, 120, 16)           16000     \n",
      "_________________________________________________________________\n",
      "conv1d (Conv1D)              (None, 116, 128)          10368     \n",
      "_________________________________________________________________\n",
      "global_max_pooling1d (Global (None, 128)               0         \n",
      "_________________________________________________________________\n",
      "dense (Dense)                (None, 24)                3096      \n",
      "_________________________________________________________________\n",
      "dense_1 (Dense)              (None, 1)                 25        \n",
      "=================================================================\n",
      "Total params: 29,489\n",
      "Trainable params: 29,489\n",
      "Non-trainable params: 0\n",
      "_________________________________________________________________\n"
     ]
    }
   ],
   "source": [
    "import numpy as np\n",
    "\n",
    "import json\n",
    "import tensorflow as tf\n",
    "\n",
    "from tensorflow.keras.preprocessing.text import Tokenizer\n",
    "from tensorflow.keras.preprocessing.sequence import pad_sequences\n",
    "\n",
    "# sarcasm.json\n",
    "# !gdown --id 1dRzdJS7-cZS4S5CuUc32MZYSLJGkkxnp\n",
    "\n",
    "vocab_size = 1000\n",
    "embedding_dim = 16\n",
    "max_length = 120\n",
    "trunc_type='post'\n",
    "padding_type='post'\n",
    "oov_tok = \"<OOV>\"\n",
    "training_size = 20000\n",
    "\n",
    "\n",
    "with open(\"./sarcasm.json\", 'r') as f:\n",
    "    datastore = json.load(f)\n",
    "\n",
    "\n",
    "sentences = []\n",
    "labels = []\n",
    "urls = []\n",
    "for item in datastore:\n",
    "    sentences.append(item['headline'])\n",
    "    labels.append(item['is_sarcastic'])\n",
    "\n",
    "training_sentences = sentences[0:training_size]\n",
    "testing_sentences = sentences[training_size:]\n",
    "training_labels = labels[0:training_size]\n",
    "testing_labels = labels[training_size:]\n",
    "\n",
    "tokenizer = Tokenizer(num_words=vocab_size, oov_token=oov_tok)\n",
    "tokenizer.fit_on_texts(training_sentences)\n",
    "\n",
    "word_index = tokenizer.word_index\n",
    "\n",
    "training_sequences = tokenizer.texts_to_sequences(training_sentences)\n",
    "training_padded = pad_sequences(training_sequences, maxlen=max_length, padding=padding_type, truncating=trunc_type)\n",
    "\n",
    "testing_sequences = tokenizer.texts_to_sequences(testing_sentences)\n",
    "testing_padded = pad_sequences(testing_sequences, maxlen=max_length, padding=padding_type, truncating=trunc_type)\n",
    "\n",
    "model = tf.keras.Sequential([\n",
    "    tf.keras.layers.Embedding(vocab_size, embedding_dim, input_length=max_length),\n",
    "    tf.keras.layers.Conv1D(128, 5, activation='relu'),\n",
    "    tf.keras.layers.GlobalMaxPooling1D(),\n",
    "    tf.keras.layers.Dense(24, activation='relu'),\n",
    "    tf.keras.layers.Dense(1, activation='sigmoid')\n",
    "])\n",
    "model.compile(loss='binary_crossentropy',optimizer='adam',metrics=['accuracy'])\n",
    "model.summary()\n",
    "\n",
    "num_epochs = 50\n",
    "\n",
    "training_padded = np.array(training_padded)\n",
    "training_labels = np.array(training_labels)\n",
    "testing_padded = np.array(testing_padded)\n",
    "testing_labels = np.array(testing_labels)\n"
   ]
  },
  {
   "cell_type": "code",
   "execution_count": 2,
   "metadata": {},
   "outputs": [
    {
     "name": "stdout",
     "output_type": "stream",
     "text": [
      "Model: \"sequential_1\"\n",
      "_________________________________________________________________\n",
      "Layer (type)                 Output Shape              Param #   \n",
      "=================================================================\n",
      "embedding_1 (Embedding)      (None, 120, 16)           16000     \n",
      "_________________________________________________________________\n",
      "conv1d_1 (Conv1D)            (None, 116, 128)          10368     \n",
      "_________________________________________________________________\n",
      "global_max_pooling1d_1 (Glob (None, 128)               0         \n",
      "_________________________________________________________________\n",
      "dense_2 (Dense)              (None, 24)                3096      \n",
      "_________________________________________________________________\n",
      "dense_3 (Dense)              (None, 1)                 25        \n",
      "=================================================================\n",
      "Total params: 29,489\n",
      "Trainable params: 29,489\n",
      "Non-trainable params: 0\n",
      "_________________________________________________________________\n"
     ]
    }
   ],
   "source": [
    "model = tf.keras.Sequential([\n",
    "    tf.keras.layers.Embedding(vocab_size, embedding_dim, input_length=max_length),\n",
    "    tf.keras.layers.Conv1D(128, 5, activation='relu'),\n",
    "    tf.keras.layers.GlobalMaxPooling1D(), # GlobalAveragePooling1D , GlobalMaxPooling1D, Flatten\n",
    "    tf.keras.layers.Dense(24, activation='relu'),\n",
    "    tf.keras.layers.Dense(1, activation='sigmoid')\n",
    "])\n",
    "model.compile(loss='binary_crossentropy',optimizer='adam',metrics=['accuracy'])\n",
    "model.summary()"
   ]
  },
  {
   "cell_type": "code",
   "execution_count": 3,
   "metadata": {},
   "outputs": [
    {
     "name": "stdout",
     "output_type": "stream",
     "text": [
      "Epoch 1/50\n",
      "625/625 [==============================] - 9s 7ms/step - loss: 0.4708 - accuracy: 0.7631 - val_loss: 0.4137 - val_accuracy: 0.8041\n",
      "Epoch 2/50\n",
      "625/625 [==============================] - 4s 7ms/step - loss: 0.3635 - accuracy: 0.8349 - val_loss: 0.3890 - val_accuracy: 0.8214\n",
      "Epoch 3/50\n",
      "625/625 [==============================] - 4s 6ms/step - loss: 0.3249 - accuracy: 0.8573 - val_loss: 0.3926 - val_accuracy: 0.8228\n",
      "Epoch 4/50\n",
      "625/625 [==============================] - 4s 6ms/step - loss: 0.2925 - accuracy: 0.8716 - val_loss: 0.4016 - val_accuracy: 0.8207\n",
      "Epoch 5/50\n",
      "625/625 [==============================] - 4s 6ms/step - loss: 0.2582 - accuracy: 0.8889 - val_loss: 0.4182 - val_accuracy: 0.8174\n",
      "Epoch 6/50\n",
      "625/625 [==============================] - 4s 6ms/step - loss: 0.2262 - accuracy: 0.9061 - val_loss: 0.4571 - val_accuracy: 0.8104\n",
      "Epoch 7/50\n",
      "625/625 [==============================] - 4s 7ms/step - loss: 0.1926 - accuracy: 0.9242 - val_loss: 0.5131 - val_accuracy: 0.8117\n",
      "Epoch 8/50\n",
      "625/625 [==============================] - 4s 7ms/step - loss: 0.1639 - accuracy: 0.9367 - val_loss: 0.5491 - val_accuracy: 0.8053\n",
      "Epoch 9/50\n",
      "625/625 [==============================] - 4s 7ms/step - loss: 0.1386 - accuracy: 0.9477 - val_loss: 0.6365 - val_accuracy: 0.7989\n",
      "Epoch 10/50\n",
      "625/625 [==============================] - 5s 7ms/step - loss: 0.1160 - accuracy: 0.9582 - val_loss: 0.7143 - val_accuracy: 0.7959\n",
      "Epoch 11/50\n",
      "625/625 [==============================] - 4s 7ms/step - loss: 0.0968 - accuracy: 0.9656 - val_loss: 0.7551 - val_accuracy: 0.7986\n",
      "Epoch 12/50\n",
      "625/625 [==============================] - 6s 10ms/step - loss: 0.0815 - accuracy: 0.9714 - val_loss: 0.8563 - val_accuracy: 0.7922\n",
      "Epoch 13/50\n",
      "625/625 [==============================] - 6s 10ms/step - loss: 0.0688 - accuracy: 0.9775 - val_loss: 0.9503 - val_accuracy: 0.7913\n",
      "Epoch 14/50\n",
      "625/625 [==============================] - 6s 9ms/step - loss: 0.0611 - accuracy: 0.9794 - val_loss: 1.0046 - val_accuracy: 0.7951\n",
      "Epoch 15/50\n",
      "625/625 [==============================] - 6s 9ms/step - loss: 0.0554 - accuracy: 0.9807 - val_loss: 1.0896 - val_accuracy: 0.7834\n",
      "Epoch 16/50\n",
      "625/625 [==============================] - 4s 7ms/step - loss: 0.0519 - accuracy: 0.9811 - val_loss: 1.1118 - val_accuracy: 0.7864\n",
      "Epoch 17/50\n",
      "625/625 [==============================] - 4s 7ms/step - loss: 0.0533 - accuracy: 0.9796 - val_loss: 1.1956 - val_accuracy: 0.7819\n",
      "Epoch 18/50\n",
      "625/625 [==============================] - 6s 10ms/step - loss: 0.0418 - accuracy: 0.9851 - val_loss: 1.2435 - val_accuracy: 0.7918\n",
      "Epoch 19/50\n",
      "625/625 [==============================] - 6s 10ms/step - loss: 0.0358 - accuracy: 0.9864 - val_loss: 1.3364 - val_accuracy: 0.7879\n",
      "Epoch 20/50\n",
      "625/625 [==============================] - 5s 8ms/step - loss: 0.0345 - accuracy: 0.9865 - val_loss: 1.3908 - val_accuracy: 0.7804\n",
      "Epoch 21/50\n",
      "625/625 [==============================] - 4s 6ms/step - loss: 0.0368 - accuracy: 0.9856 - val_loss: 1.4576 - val_accuracy: 0.7798\n",
      "Epoch 22/50\n",
      "625/625 [==============================] - 18s 29ms/step - loss: 0.0357 - accuracy: 0.9861 - val_loss: 1.5075 - val_accuracy: 0.7888\n",
      "Epoch 23/50\n",
      "625/625 [==============================] - 4s 6ms/step - loss: 0.0347 - accuracy: 0.9864 - val_loss: 1.5543 - val_accuracy: 0.7883\n",
      "Epoch 24/50\n",
      "625/625 [==============================] - 8s 12ms/step - loss: 0.0317 - accuracy: 0.9876 - val_loss: 1.7428 - val_accuracy: 0.7770\n",
      "Epoch 25/50\n",
      "625/625 [==============================] - 4s 6ms/step - loss: 0.0299 - accuracy: 0.9881 - val_loss: 1.7879 - val_accuracy: 0.7812\n",
      "Epoch 26/50\n",
      "625/625 [==============================] - 4s 6ms/step - loss: 0.0278 - accuracy: 0.9887 - val_loss: 1.7641 - val_accuracy: 0.7809\n",
      "Epoch 27/50\n",
      "625/625 [==============================] - 4s 6ms/step - loss: 0.0318 - accuracy: 0.9873 - val_loss: 1.8976 - val_accuracy: 0.7833\n",
      "Epoch 28/50\n",
      "625/625 [==============================] - 4s 6ms/step - loss: 0.0297 - accuracy: 0.9883 - val_loss: 1.7665 - val_accuracy: 0.7863\n",
      "Epoch 29/50\n",
      "625/625 [==============================] - 4s 6ms/step - loss: 0.0231 - accuracy: 0.9907 - val_loss: 2.0023 - val_accuracy: 0.7842\n",
      "Epoch 30/50\n",
      "625/625 [==============================] - 5s 8ms/step - loss: 0.0242 - accuracy: 0.9899 - val_loss: 1.9177 - val_accuracy: 0.7861\n",
      "Epoch 31/50\n",
      "625/625 [==============================] - 6s 10ms/step - loss: 0.0254 - accuracy: 0.9894 - val_loss: 2.0104 - val_accuracy: 0.7825\n",
      "Epoch 32/50\n",
      "625/625 [==============================] - 6s 9ms/step - loss: 0.0280 - accuracy: 0.9888 - val_loss: 2.1083 - val_accuracy: 0.7788\n",
      "Epoch 33/50\n",
      "625/625 [==============================] - 6s 9ms/step - loss: 0.0270 - accuracy: 0.9893 - val_loss: 2.1154 - val_accuracy: 0.7851\n",
      "Epoch 34/50\n",
      "625/625 [==============================] - 6s 9ms/step - loss: 0.0259 - accuracy: 0.9890 - val_loss: 2.1297 - val_accuracy: 0.7869\n",
      "Epoch 35/50\n",
      "625/625 [==============================] - 6s 9ms/step - loss: 0.0232 - accuracy: 0.9902 - val_loss: 2.1961 - val_accuracy: 0.7813\n",
      "Epoch 36/50\n",
      "625/625 [==============================] - 6s 9ms/step - loss: 0.0211 - accuracy: 0.9910 - val_loss: 2.3728 - val_accuracy: 0.7845\n",
      "Epoch 37/50\n",
      "625/625 [==============================] - 6s 9ms/step - loss: 0.0176 - accuracy: 0.9923 - val_loss: 2.2958 - val_accuracy: 0.7851\n",
      "Epoch 38/50\n",
      "625/625 [==============================] - 6s 9ms/step - loss: 0.0211 - accuracy: 0.9905 - val_loss: 2.4213 - val_accuracy: 0.7831\n",
      "Epoch 39/50\n",
      "625/625 [==============================] - 6s 9ms/step - loss: 0.0299 - accuracy: 0.9881 - val_loss: 2.2436 - val_accuracy: 0.7872\n",
      "Epoch 40/50\n",
      "625/625 [==============================] - 6s 9ms/step - loss: 0.0268 - accuracy: 0.9890 - val_loss: 2.3179 - val_accuracy: 0.7772\n",
      "Epoch 41/50\n",
      "625/625 [==============================] - 6s 9ms/step - loss: 0.0208 - accuracy: 0.9912 - val_loss: 2.3697 - val_accuracy: 0.7828\n",
      "Epoch 42/50\n",
      "625/625 [==============================] - 6s 10ms/step - loss: 0.0212 - accuracy: 0.9904 - val_loss: 2.4555 - val_accuracy: 0.7821\n",
      "Epoch 43/50\n",
      "625/625 [==============================] - 6s 10ms/step - loss: 0.0206 - accuracy: 0.9913 - val_loss: 2.4694 - val_accuracy: 0.7852\n",
      "Epoch 44/50\n",
      "625/625 [==============================] - 4s 7ms/step - loss: 0.0223 - accuracy: 0.9906 - val_loss: 2.6696 - val_accuracy: 0.7885\n",
      "Epoch 45/50\n",
      "625/625 [==============================] - 4s 6ms/step - loss: 0.0224 - accuracy: 0.9901 - val_loss: 2.4301 - val_accuracy: 0.7898\n",
      "Epoch 46/50\n",
      "625/625 [==============================] - 4s 6ms/step - loss: 0.0193 - accuracy: 0.9909 - val_loss: 2.5450 - val_accuracy: 0.7891\n",
      "Epoch 47/50\n",
      "625/625 [==============================] - 4s 6ms/step - loss: 0.0206 - accuracy: 0.9908 - val_loss: 2.6205 - val_accuracy: 0.7876\n",
      "Epoch 48/50\n",
      "625/625 [==============================] - 4s 6ms/step - loss: 0.0196 - accuracy: 0.9914 - val_loss: 2.7521 - val_accuracy: 0.7860\n",
      "Epoch 49/50\n",
      "625/625 [==============================] - 4s 6ms/step - loss: 0.0213 - accuracy: 0.9905 - val_loss: 2.7210 - val_accuracy: 0.7734\n",
      "Epoch 50/50\n",
      "625/625 [==============================] - 4s 6ms/step - loss: 0.0268 - accuracy: 0.9893 - val_loss: 2.5759 - val_accuracy: 0.7933\n"
     ]
    }
   ],
   "source": [
    "history = model.fit(training_padded, training_labels, epochs=num_epochs, validation_data=(testing_padded, testing_labels), verbose=1)"
   ]
  },
  {
   "cell_type": "code",
   "execution_count": 4,
   "metadata": {
    "id": "g9DC6dmLF8DC"
   },
   "outputs": [
    {
     "data": {
      "image/png": "[encoded data removed]",
      "text/plain": [
       "<Figure size 432x288 with 1 Axes>"
      ]
     },
     "metadata": {
      "needs_background": "light"
     },
     "output_type": "display_data"
    },
    {
     "data": {
      "image/png": "[encoded data removed]",
      "text/plain": [
       "<Figure size 432x288 with 1 Axes>"
      ]
     },
     "metadata": {
      "needs_background": "light"
     },
     "output_type": "display_data"
    }
   ],
   "source": [
    "import matplotlib.pyplot as plt\n",
    "\n",
    "\n",
    "def plot_graphs(history, string):\n",
    "    plt.plot(history.history[string])\n",
    "    plt.plot(history.history['val_'+string])\n",
    "    plt.xlabel(\"Epochs\")\n",
    "    plt.ylabel(string)\n",
    "    plt.legend([string, 'val_'+string])\n",
    "    plt.show()\n",
    "\n",
    "plot_graphs(history, 'accuracy')\n",
    "plot_graphs(history, 'loss')"
   ]
  },
  {
   "cell_type": "code",
   "execution_count": 5,
   "metadata": {
    "id": "7ZEZIUppGhdi"
   },
   "outputs": [],
   "source": [
    "model.save(\"model_sarcasm_1d_covnet.h5\")"
   ]
  }
 ],
 "metadata": {
  "accelerator": "GPU",
  "colab": {
   "collapsed_sections": [],
   "name": "C3_W3_Lab_6_sarcasm_with_1D_convolutional.ipynb",
   "provenance": [],
   "toc_visible": true
  },
  "kernelspec": {
   "display_name": "Python 3 (ipykernel)",
   "language": "python",
   "name": "python3"
  },
  "language_info": {
   "codemirror_mode": {
    "name": "ipython",
    "version": 3
   },
   "file_extension": ".py",
   "mimetype": "text/x-python",
   "name": "python",
   "nbconvert_exporter": "python",
   "pygments_lexer": "ipython3",
   "version": "3.8.12"
  }
 },
 "nbformat": 4,
 "nbformat_minor": 1
}
