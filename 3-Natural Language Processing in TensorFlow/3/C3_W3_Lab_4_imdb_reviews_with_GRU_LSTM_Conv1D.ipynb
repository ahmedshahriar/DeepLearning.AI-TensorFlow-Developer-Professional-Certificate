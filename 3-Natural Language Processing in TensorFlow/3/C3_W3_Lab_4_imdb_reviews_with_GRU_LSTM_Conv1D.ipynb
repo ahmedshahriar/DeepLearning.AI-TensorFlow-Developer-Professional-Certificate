{
 "cells": [
  {
   "cell_type": "code",
   "execution_count": null,
   "metadata": {
    "id": "zX4Kg8DUTKWO"
   },
   "outputs": [],
   "source": [
    "#@title Licensed under the Apache License, Version 2.0 (the \"License\");\n",
    "# you may not use this file except in compliance with the License.\n",
    "# You may obtain a copy of the License at\n",
    "#\n",
    "# https://www.apache.org/licenses/LICENSE-2.0\n",
    "#\n",
    "# Unless required by applicable law or agreed to in writing, software\n",
    "# distributed under the License is distributed on an \"AS IS\" BASIS,\n",
    "# WITHOUT WARRANTIES OR CONDITIONS OF ANY KIND, either express or implied.\n",
    "# See the License for the specific language governing permissions and\n",
    "# limitations under the License."
   ]
  },
  {
   "cell_type": "markdown",
   "metadata": {
    "id": "e7LTWrXvT6LK"
   },
   "source": [
    "**Note:** This notebook can run using TensorFlow 2.5.0"
   ]
  },
  {
   "cell_type": "code",
   "execution_count": null,
   "metadata": {
    "id": "I6NpdaKzT6LK"
   },
   "outputs": [],
   "source": [
    "#!pip install tensorflow==2.5.0"
   ]
  },
  {
   "cell_type": "code",
   "execution_count": 1,
   "metadata": {
    "id": "P-AhVYeBWgQ3"
   },
   "outputs": [
    {
     "name": "stdout",
     "output_type": "stream",
     "text": [
      "2.5.0\n"
     ]
    }
   ],
   "source": [
    "import tensorflow as tf\n",
    "print(tf.__version__)\n",
    "\n",
    "# !pip install -q tensorflow-datasets\n",
    "\n",
    "import tensorflow_datasets as tfds\n",
    "imdb, info = tfds.load(\"imdb_reviews\", with_info=True, as_supervised=True)"
   ]
  },
  {
   "cell_type": "code",
   "execution_count": 2,
   "metadata": {
    "id": "wHQ2Ko0zl7M4"
   },
   "outputs": [],
   "source": [
    "import numpy as np\n",
    "\n",
    "train_data, test_data = imdb['train'], imdb['test']\n",
    "\n",
    "training_sentences = []\n",
    "training_labels = []\n",
    "\n",
    "testing_sentences = []\n",
    "testing_labels = []\n",
    "\n",
    "# str(s.tonumpy()) is needed in Python3 instead of just s.numpy()\n",
    "for s,l in train_data:\n",
    "    training_sentences.append(str(s.numpy()))\n",
    "    training_labels.append(l.numpy())\n",
    "\n",
    "for s,l in test_data:\n",
    "    testing_sentences.append(str(s.numpy()))\n",
    "    testing_labels.append(l.numpy())\n",
    "\n",
    "training_labels_final = np.array(training_labels)\n",
    "testing_labels_final = np.array(testing_labels)"
   ]
  },
  {
   "cell_type": "code",
   "execution_count": 3,
   "metadata": {
    "id": "7n15yyMdmoH1"
   },
   "outputs": [],
   "source": [
    "vocab_size = 10000\n",
    "embedding_dim = 16\n",
    "max_length = 120\n",
    "trunc_type='post'\n",
    "oov_tok = \"<OOV>\"\n",
    "\n",
    "\n",
    "from tensorflow.keras.preprocessing.text import Tokenizer\n",
    "from tensorflow.keras.preprocessing.sequence import pad_sequences\n",
    "\n",
    "tokenizer = Tokenizer(num_words = vocab_size, oov_token=oov_tok)\n",
    "tokenizer.fit_on_texts(training_sentences)\n",
    "word_index = tokenizer.word_index\n",
    "sequences = tokenizer.texts_to_sequences(training_sentences)\n",
    "padded = pad_sequences(sequences,maxlen=max_length, truncating=trunc_type)\n",
    "\n",
    "testing_sequences = tokenizer.texts_to_sequences(testing_sentences)\n",
    "testing_padded = pad_sequences(testing_sequences,maxlen=max_length)\n"
   ]
  },
  {
   "cell_type": "code",
   "execution_count": 4,
   "metadata": {
    "id": "9axf0uIXVMhO"
   },
   "outputs": [
    {
     "name": "stdout",
     "output_type": "stream",
     "text": [
      "? ? ? ? ? ? ? b'i have been known to fall asleep during films but this is usually due to a combination of things including really tired being warm and comfortable on the <OOV> and having just eaten a lot however on this occasion i fell asleep because the film was rubbish the plot development was constant constantly slow and boring things seemed to happen but with no explanation of what was causing them or why i admit i may have missed part of the film but i watched the majority of it and everything just seemed to happen of its own <OOV> without any real concern for anything else i cant recommend this film at all '\n",
      "b'I have been known to fall asleep during films, but this is usually due to a combination of things including, really tired, being warm and comfortable on the sette and having just eaten a lot. However on this occasion I fell asleep because the film was rubbish. The plot development was constant. Constantly slow and boring. Things seemed to happen, but with no explanation of what was causing them or why. I admit, I may have missed part of the film, but i watched the majority of it and everything just seemed to happen of its own accord without any real concern for anything else. I cant recommend this film at all.'\n"
     ]
    }
   ],
   "source": [
    "reverse_word_index = dict([(value, key) for (key, value) in word_index.items()])\n",
    "\n",
    "def decode_review(text):\n",
    "    return ' '.join([reverse_word_index.get(i, '?') for i in text])\n",
    "\n",
    "print(decode_review(padded[1]))\n",
    "print(training_sentences[1])"
   ]
  },
  {
   "cell_type": "code",
   "execution_count": 5,
   "metadata": {
    "id": "5NEpdhb8AxID",
    "scrolled": true
   },
   "outputs": [
    {
     "name": "stdout",
     "output_type": "stream",
     "text": [
      "Model: \"sequential\"\n",
      "_________________________________________________________________\n",
      "Layer (type)                 Output Shape              Param #   \n",
      "=================================================================\n",
      "embedding (Embedding)        (None, 120, 16)           160000    \n",
      "_________________________________________________________________\n",
      "bidirectional (Bidirectional (None, 64)                9600      \n",
      "_________________________________________________________________\n",
      "dense (Dense)                (None, 6)                 390       \n",
      "_________________________________________________________________\n",
      "dense_1 (Dense)              (None, 1)                 7         \n",
      "=================================================================\n",
      "Total params: 169,997\n",
      "Trainable params: 169,997\n",
      "Non-trainable params: 0\n",
      "_________________________________________________________________\n"
     ]
    }
   ],
   "source": [
    "model = tf.keras.Sequential([\n",
    "    tf.keras.layers.Embedding(vocab_size, embedding_dim, input_length=max_length),\n",
    "    tf.keras.layers.Bidirectional(tf.keras.layers.GRU(32)),\n",
    "    tf.keras.layers.Dense(6, activation='relu'),\n",
    "    tf.keras.layers.Dense(1, activation='sigmoid')\n",
    "])\n",
    "model.compile(loss='binary_crossentropy',optimizer='adam',metrics=['accuracy'])\n",
    "model.summary()\n"
   ]
  },
  {
   "cell_type": "code",
   "execution_count": 6,
   "metadata": {
    "id": "V5LLrXC-uNX6"
   },
   "outputs": [
    {
     "name": "stdout",
     "output_type": "stream",
     "text": [
      "Epoch 1/50\n",
      "782/782 [==============================] - 20s 20ms/step - loss: 0.5457 - accuracy: 0.6889 - val_loss: 0.3678 - val_accuracy: 0.8337\n",
      "Epoch 2/50\n",
      "782/782 [==============================] - 15s 20ms/step - loss: 0.3156 - accuracy: 0.8714 - val_loss: 0.3575 - val_accuracy: 0.8486\n",
      "Epoch 3/50\n",
      "782/782 [==============================] - 16s 20ms/step - loss: 0.2451 - accuracy: 0.9056 - val_loss: 0.3821 - val_accuracy: 0.8312\n",
      "Epoch 4/50\n",
      "782/782 [==============================] - 16s 20ms/step - loss: 0.1896 - accuracy: 0.9309 - val_loss: 0.4020 - val_accuracy: 0.8292\n",
      "Epoch 5/50\n",
      "782/782 [==============================] - 16s 20ms/step - loss: 0.1444 - accuracy: 0.9490 - val_loss: 0.4499 - val_accuracy: 0.8303\n",
      "Epoch 6/50\n",
      "782/782 [==============================] - 16s 21ms/step - loss: 0.0996 - accuracy: 0.9673 - val_loss: 0.5402 - val_accuracy: 0.8174\n",
      "Epoch 7/50\n",
      "782/782 [==============================] - 16s 20ms/step - loss: 0.0657 - accuracy: 0.9788 - val_loss: 0.6538 - val_accuracy: 0.8222\n",
      "Epoch 8/50\n",
      "782/782 [==============================] - 15s 19ms/step - loss: 0.0424 - accuracy: 0.9870 - val_loss: 0.7370 - val_accuracy: 0.8099\n",
      "Epoch 9/50\n",
      "782/782 [==============================] - 15s 19ms/step - loss: 0.0304 - accuracy: 0.9903 - val_loss: 0.8498 - val_accuracy: 0.8156\n",
      "Epoch 10/50\n",
      "782/782 [==============================] - 16s 21ms/step - loss: 0.0197 - accuracy: 0.9936 - val_loss: 0.9768 - val_accuracy: 0.8158\n",
      "Epoch 11/50\n",
      "782/782 [==============================] - 16s 20ms/step - loss: 0.0140 - accuracy: 0.9952 - val_loss: 1.0952 - val_accuracy: 0.8082\n",
      "Epoch 12/50\n",
      "782/782 [==============================] - 16s 20ms/step - loss: 0.0180 - accuracy: 0.9937 - val_loss: 1.0415 - val_accuracy: 0.8092\n",
      "Epoch 13/50\n",
      "782/782 [==============================] - 16s 21ms/step - loss: 0.0124 - accuracy: 0.9958 - val_loss: 1.1238 - val_accuracy: 0.8086\n",
      "Epoch 14/50\n",
      "782/782 [==============================] - 16s 20ms/step - loss: 0.0121 - accuracy: 0.9960 - val_loss: 1.2136 - val_accuracy: 0.8053\n",
      "Epoch 15/50\n",
      "782/782 [==============================] - 15s 19ms/step - loss: 0.0075 - accuracy: 0.9976 - val_loss: 1.2686 - val_accuracy: 0.8123\n",
      "Epoch 16/50\n",
      "782/782 [==============================] - 15s 19ms/step - loss: 0.0132 - accuracy: 0.9952 - val_loss: 1.1750 - val_accuracy: 0.8113\n",
      "Epoch 17/50\n",
      "782/782 [==============================] - 16s 21ms/step - loss: 0.0117 - accuracy: 0.9956 - val_loss: 1.1178 - val_accuracy: 0.8042\n",
      "Epoch 18/50\n",
      "782/782 [==============================] - 15s 19ms/step - loss: 0.0033 - accuracy: 0.9992 - val_loss: 1.2758 - val_accuracy: 0.8115\n",
      "Epoch 19/50\n",
      "782/782 [==============================] - 15s 19ms/step - loss: 0.0018 - accuracy: 0.9996 - val_loss: 1.3759 - val_accuracy: 0.8061\n",
      "Epoch 20/50\n",
      "782/782 [==============================] - 15s 19ms/step - loss: 0.0128 - accuracy: 0.9954 - val_loss: 1.2145 - val_accuracy: 0.8019\n",
      "Epoch 21/50\n",
      "782/782 [==============================] - 15s 19ms/step - loss: 0.0081 - accuracy: 0.9974 - val_loss: 1.2608 - val_accuracy: 0.8040\n",
      "Epoch 22/50\n",
      "782/782 [==============================] - 15s 19ms/step - loss: 0.0039 - accuracy: 0.9988 - val_loss: 1.3720 - val_accuracy: 0.8093\n",
      "Epoch 23/50\n",
      "782/782 [==============================] - 15s 19ms/step - loss: 0.0041 - accuracy: 0.9987 - val_loss: 1.4588 - val_accuracy: 0.8029\n",
      "Epoch 24/50\n",
      "782/782 [==============================] - 15s 19ms/step - loss: 0.0045 - accuracy: 0.9988 - val_loss: 1.4159 - val_accuracy: 0.7894\n",
      "Epoch 25/50\n",
      "782/782 [==============================] - 15s 19ms/step - loss: 0.0089 - accuracy: 0.9966 - val_loss: 1.3288 - val_accuracy: 0.8046\n",
      "Epoch 26/50\n",
      "782/782 [==============================] - 15s 19ms/step - loss: 0.0054 - accuracy: 0.9982 - val_loss: 1.4479 - val_accuracy: 0.8061\n",
      "Epoch 27/50\n",
      "782/782 [==============================] - 15s 19ms/step - loss: 5.8251e-04 - accuracy: 1.0000 - val_loss: 1.7410 - val_accuracy: 0.8012\n",
      "Epoch 28/50\n",
      "782/782 [==============================] - 15s 19ms/step - loss: 2.6510e-04 - accuracy: 1.0000 - val_loss: 1.6237 - val_accuracy: 0.8063\n",
      "Epoch 29/50\n",
      "782/782 [==============================] - 15s 19ms/step - loss: 3.6657e-05 - accuracy: 1.0000 - val_loss: 1.6606 - val_accuracy: 0.8087\n",
      "Epoch 30/50\n",
      "782/782 [==============================] - 15s 19ms/step - loss: 2.0931e-05 - accuracy: 1.0000 - val_loss: 1.7131 - val_accuracy: 0.8098\n",
      "Epoch 31/50\n",
      "782/782 [==============================] - 15s 19ms/step - loss: 1.4536e-05 - accuracy: 1.0000 - val_loss: 1.7598 - val_accuracy: 0.8104\n",
      "Epoch 32/50\n",
      "782/782 [==============================] - 15s 19ms/step - loss: 1.0229e-05 - accuracy: 1.0000 - val_loss: 1.8089 - val_accuracy: 0.8105\n",
      "Epoch 33/50\n",
      "782/782 [==============================] - 15s 20ms/step - loss: 7.1619e-06 - accuracy: 1.0000 - val_loss: 1.8594 - val_accuracy: 0.8108\n",
      "Epoch 34/50\n",
      "782/782 [==============================] - 15s 19ms/step - loss: 4.9728e-06 - accuracy: 1.0000 - val_loss: 1.9133 - val_accuracy: 0.8107\n",
      "Epoch 35/50\n",
      "782/782 [==============================] - 15s 20ms/step - loss: 3.4240e-06 - accuracy: 1.0000 - val_loss: 1.9663 - val_accuracy: 0.8107\n",
      "Epoch 36/50\n",
      "782/782 [==============================] - 15s 19ms/step - loss: 2.3286e-06 - accuracy: 1.0000 - val_loss: 2.0251 - val_accuracy: 0.8108\n",
      "Epoch 37/50\n",
      "782/782 [==============================] - 15s 19ms/step - loss: 1.5776e-06 - accuracy: 1.0000 - val_loss: 2.0832 - val_accuracy: 0.8110\n",
      "Epoch 38/50\n",
      "782/782 [==============================] - 15s 19ms/step - loss: 1.0568e-06 - accuracy: 1.0000 - val_loss: 2.1441 - val_accuracy: 0.8108\n",
      "Epoch 39/50\n",
      "782/782 [==============================] - 15s 19ms/step - loss: 7.0704e-07 - accuracy: 1.0000 - val_loss: 2.2074 - val_accuracy: 0.8109\n",
      "Epoch 40/50\n",
      "782/782 [==============================] - 15s 19ms/step - loss: 4.7175e-07 - accuracy: 1.0000 - val_loss: 2.2647 - val_accuracy: 0.8107\n",
      "Epoch 41/50\n",
      "782/782 [==============================] - 15s 19ms/step - loss: 3.1283e-07 - accuracy: 1.0000 - val_loss: 2.3283 - val_accuracy: 0.8104\n",
      "Epoch 42/50\n",
      "782/782 [==============================] - 15s 19ms/step - loss: 2.0927e-07 - accuracy: 1.0000 - val_loss: 2.3893 - val_accuracy: 0.8101\n",
      "Epoch 43/50\n",
      "782/782 [==============================] - 15s 19ms/step - loss: 1.3920e-07 - accuracy: 1.0000 - val_loss: 2.4542 - val_accuracy: 0.8098\n",
      "Epoch 44/50\n",
      "782/782 [==============================] - 15s 19ms/step - loss: 9.3000e-08 - accuracy: 1.0000 - val_loss: 2.5123 - val_accuracy: 0.8101\n",
      "Epoch 45/50\n",
      "782/782 [==============================] - 15s 19ms/step - loss: 6.2365e-08 - accuracy: 1.0000 - val_loss: 2.5722 - val_accuracy: 0.8099\n",
      "Epoch 46/50\n",
      "782/782 [==============================] - 16s 20ms/step - loss: 4.2041e-08 - accuracy: 1.0000 - val_loss: 2.6342 - val_accuracy: 0.8100\n",
      "Epoch 47/50\n",
      "782/782 [==============================] - 15s 19ms/step - loss: 2.8630e-08 - accuracy: 1.0000 - val_loss: 2.6947 - val_accuracy: 0.8103\n",
      "Epoch 48/50\n",
      "782/782 [==============================] - 15s 19ms/step - loss: 1.9672e-08 - accuracy: 1.0000 - val_loss: 2.7477 - val_accuracy: 0.8096\n",
      "Epoch 49/50\n",
      "782/782 [==============================] - 15s 19ms/step - loss: 1.3655e-08 - accuracy: 1.0000 - val_loss: 2.8064 - val_accuracy: 0.8098\n",
      "Epoch 50/50\n",
      "782/782 [==============================] - 15s 19ms/step - loss: 9.6070e-09 - accuracy: 1.0000 - val_loss: 2.8558 - val_accuracy: 0.8094\n"
     ]
    }
   ],
   "source": [
    "num_epochs = 50\n",
    "history = model.fit(padded, training_labels_final, epochs=num_epochs, validation_data=(testing_padded, testing_labels_final))"
   ]
  },
  {
   "cell_type": "code",
   "execution_count": 7,
   "metadata": {
    "id": "nHGYuU4jPYaj"
   },
   "outputs": [],
   "source": [
    "import matplotlib.pyplot as plt\n",
    "\n",
    "\n",
    "def plot_graphs(history, string):\n",
    "    plt.plot(history.history[string])\n",
    "    plt.plot(history.history['val_'+string])\n",
    "    plt.xlabel(\"Epochs\")\n",
    "    plt.ylabel(string)\n",
    "    plt.legend([string, 'val_'+string])\n",
    "    plt.show()"
   ]
  },
  {
   "cell_type": "code",
   "execution_count": 8,
   "metadata": {},
   "outputs": [
    {
     "data": {
      "image/png": "[encoded data removed]",
      "text/plain": [
       "<Figure size 432x288 with 1 Axes>"
      ]
     },
     "metadata": {
      "needs_background": "light"
     },
     "output_type": "display_data"
    },
    {
     "data": {
      "image/png": "[encoded data removed]",
      "text/plain": [
       "<Figure size 432x288 with 1 Axes>"
      ]
     },
     "metadata": {
      "needs_background": "light"
     },
     "output_type": "display_data"
    }
   ],
   "source": [
    "plot_graphs(history, 'accuracy')\n",
    "plot_graphs(history, 'loss')"
   ]
  },
  {
   "cell_type": "code",
   "execution_count": 9,
   "metadata": {
    "id": "wSualgGPPK0S"
   },
   "outputs": [
    {
     "name": "stdout",
     "output_type": "stream",
     "text": [
      "Model: \"sequential_1\"\n",
      "_________________________________________________________________\n",
      "Layer (type)                 Output Shape              Param #   \n",
      "=================================================================\n",
      "embedding_1 (Embedding)      (None, 120, 16)           160000    \n",
      "_________________________________________________________________\n",
      "bidirectional_1 (Bidirection (None, 64)                12544     \n",
      "_________________________________________________________________\n",
      "dense_2 (Dense)              (None, 6)                 390       \n",
      "_________________________________________________________________\n",
      "dense_3 (Dense)              (None, 1)                 7         \n",
      "=================================================================\n",
      "Total params: 172,941\n",
      "Trainable params: 172,941\n",
      "Non-trainable params: 0\n",
      "_________________________________________________________________\n"
     ]
    }
   ],
   "source": [
    "# Model Definition with LSTM\n",
    "model2 = tf.keras.Sequential([\n",
    "    tf.keras.layers.Embedding(vocab_size, embedding_dim, input_length=max_length),\n",
    "    tf.keras.layers.Bidirectional(tf.keras.layers.LSTM(32)),\n",
    "    tf.keras.layers.Dense(6, activation='relu'),\n",
    "    tf.keras.layers.Dense(1, activation='sigmoid')\n",
    "])\n",
    "model2.compile(loss='binary_crossentropy',optimizer='adam',metrics=['accuracy'])\n",
    "model2.summary()"
   ]
  },
  {
   "cell_type": "code",
   "execution_count": 10,
   "metadata": {},
   "outputs": [
    {
     "name": "stdout",
     "output_type": "stream",
     "text": [
      "Epoch 1/50\n",
      "782/782 [==============================] - 19s 22ms/step - loss: 0.5702 - accuracy: 0.7236 - val_loss: 0.4610 - val_accuracy: 0.8288\n",
      "Epoch 2/50\n",
      "782/782 [==============================] - 16s 21ms/step - loss: 0.4028 - accuracy: 0.8543 - val_loss: 0.4141 - val_accuracy: 0.8316\n",
      "Epoch 3/50\n",
      "782/782 [==============================] - 16s 21ms/step - loss: 0.3162 - accuracy: 0.8918 - val_loss: 0.4049 - val_accuracy: 0.8394\n",
      "Epoch 4/50\n",
      "782/782 [==============================] - 16s 21ms/step - loss: 0.2508 - accuracy: 0.9182 - val_loss: 0.4114 - val_accuracy: 0.8316\n",
      "Epoch 5/50\n",
      "782/782 [==============================] - 16s 21ms/step - loss: 0.2004 - accuracy: 0.9388 - val_loss: 0.4616 - val_accuracy: 0.8295\n",
      "Epoch 6/50\n",
      "782/782 [==============================] - 16s 21ms/step - loss: 0.1678 - accuracy: 0.9502 - val_loss: 0.4953 - val_accuracy: 0.8244\n",
      "Epoch 7/50\n",
      "782/782 [==============================] - 16s 21ms/step - loss: 0.1458 - accuracy: 0.9585 - val_loss: 0.6339 - val_accuracy: 0.8247\n",
      "Epoch 8/50\n",
      "782/782 [==============================] - 16s 21ms/step - loss: 0.1269 - accuracy: 0.9656 - val_loss: 0.6316 - val_accuracy: 0.8252\n",
      "Epoch 9/50\n",
      "782/782 [==============================] - 16s 21ms/step - loss: 0.1167 - accuracy: 0.9682 - val_loss: 0.6907 - val_accuracy: 0.8251\n",
      "Epoch 10/50\n",
      "782/782 [==============================] - 16s 21ms/step - loss: 0.1095 - accuracy: 0.9704 - val_loss: 0.6298 - val_accuracy: 0.8131\n",
      "Epoch 11/50\n",
      "782/782 [==============================] - 16s 21ms/step - loss: 0.1031 - accuracy: 0.9722 - val_loss: 0.8180 - val_accuracy: 0.8217\n",
      "Epoch 12/50\n",
      "782/782 [==============================] - 16s 21ms/step - loss: 0.0972 - accuracy: 0.9752 - val_loss: 0.8692 - val_accuracy: 0.8206\n",
      "Epoch 13/50\n",
      "782/782 [==============================] - 16s 21ms/step - loss: 0.0951 - accuracy: 0.9757 - val_loss: 1.2260 - val_accuracy: 0.8131\n",
      "Epoch 14/50\n",
      "782/782 [==============================] - 16s 21ms/step - loss: 0.0914 - accuracy: 0.9766 - val_loss: 0.9386 - val_accuracy: 0.8212\n",
      "Epoch 15/50\n",
      "782/782 [==============================] - 16s 21ms/step - loss: 0.0872 - accuracy: 0.9787 - val_loss: 0.8486 - val_accuracy: 0.8208\n",
      "Epoch 16/50\n",
      "782/782 [==============================] - 16s 21ms/step - loss: 0.0879 - accuracy: 0.9782 - val_loss: 0.8705 - val_accuracy: 0.8220\n",
      "Epoch 17/50\n",
      "782/782 [==============================] - 16s 21ms/step - loss: 0.0808 - accuracy: 0.9808 - val_loss: 0.7759 - val_accuracy: 0.8178\n",
      "Epoch 18/50\n",
      "782/782 [==============================] - 16s 21ms/step - loss: 0.0874 - accuracy: 0.9779 - val_loss: 0.7919 - val_accuracy: 0.8208\n",
      "Epoch 19/50\n",
      "782/782 [==============================] - 16s 21ms/step - loss: 0.0787 - accuracy: 0.9813 - val_loss: 0.8629 - val_accuracy: 0.8176\n",
      "Epoch 20/50\n",
      "782/782 [==============================] - 16s 21ms/step - loss: 0.0736 - accuracy: 0.9832 - val_loss: 1.0371 - val_accuracy: 0.8271\n",
      "Epoch 21/50\n",
      "782/782 [==============================] - 16s 21ms/step - loss: 0.0809 - accuracy: 0.9802 - val_loss: 0.8410 - val_accuracy: 0.8184\n",
      "Epoch 22/50\n",
      "782/782 [==============================] - 16s 21ms/step - loss: 0.0768 - accuracy: 0.9819 - val_loss: 0.9190 - val_accuracy: 0.8187\n",
      "Epoch 23/50\n",
      "782/782 [==============================] - 16s 21ms/step - loss: 0.0744 - accuracy: 0.9828 - val_loss: 0.9280 - val_accuracy: 0.8180\n",
      "Epoch 24/50\n",
      "782/782 [==============================] - 16s 21ms/step - loss: 0.0732 - accuracy: 0.9831 - val_loss: 1.0546 - val_accuracy: 0.8113\n",
      "Epoch 25/50\n",
      "782/782 [==============================] - 16s 21ms/step - loss: 0.0810 - accuracy: 0.9795 - val_loss: 0.8171 - val_accuracy: 0.8079\n",
      "Epoch 26/50\n",
      "782/782 [==============================] - 16s 21ms/step - loss: 0.0716 - accuracy: 0.9833 - val_loss: 0.9391 - val_accuracy: 0.8174\n",
      "Epoch 27/50\n",
      "782/782 [==============================] - 16s 21ms/step - loss: 0.0716 - accuracy: 0.9838 - val_loss: 0.9186 - val_accuracy: 0.8143\n",
      "Epoch 28/50\n",
      "782/782 [==============================] - 16s 21ms/step - loss: 0.0688 - accuracy: 0.9846 - val_loss: 0.9300 - val_accuracy: 0.8117\n",
      "Epoch 29/50\n",
      "782/782 [==============================] - 16s 21ms/step - loss: 0.0710 - accuracy: 0.9835 - val_loss: 0.8654 - val_accuracy: 0.8162\n",
      "Epoch 30/50\n",
      "782/782 [==============================] - 16s 21ms/step - loss: 0.0741 - accuracy: 0.9827 - val_loss: 0.8317 - val_accuracy: 0.8169\n",
      "Epoch 31/50\n",
      "782/782 [==============================] - 16s 21ms/step - loss: 0.0709 - accuracy: 0.9832 - val_loss: 0.9784 - val_accuracy: 0.8208\n",
      "Epoch 32/50\n",
      "782/782 [==============================] - 16s 21ms/step - loss: 0.0665 - accuracy: 0.9854 - val_loss: 0.9140 - val_accuracy: 0.8196\n",
      "Epoch 33/50\n",
      "782/782 [==============================] - 16s 21ms/step - loss: 0.0656 - accuracy: 0.9854 - val_loss: 0.9422 - val_accuracy: 0.8137\n",
      "Epoch 34/50\n",
      "782/782 [==============================] - 16s 21ms/step - loss: 0.0719 - accuracy: 0.9833 - val_loss: 0.8615 - val_accuracy: 0.8107\n",
      "Epoch 35/50\n",
      "782/782 [==============================] - 16s 21ms/step - loss: 0.0693 - accuracy: 0.9842 - val_loss: 1.0693 - val_accuracy: 0.8224\n",
      "Epoch 36/50\n",
      "782/782 [==============================] - 16s 21ms/step - loss: 0.0671 - accuracy: 0.9850 - val_loss: 1.0025 - val_accuracy: 0.8189\n",
      "Epoch 37/50\n",
      "782/782 [==============================] - 16s 21ms/step - loss: 0.0660 - accuracy: 0.9852 - val_loss: 0.9876 - val_accuracy: 0.8130\n",
      "Epoch 38/50\n",
      "782/782 [==============================] - 16s 21ms/step - loss: 0.0670 - accuracy: 0.9847 - val_loss: 1.0813 - val_accuracy: 0.8161\n",
      "Epoch 39/50\n",
      "782/782 [==============================] - 16s 21ms/step - loss: 0.0670 - accuracy: 0.9849 - val_loss: 1.9999 - val_accuracy: 0.7944\n",
      "Epoch 40/50\n",
      "782/782 [==============================] - 16s 21ms/step - loss: 0.0674 - accuracy: 0.9848 - val_loss: 1.1013 - val_accuracy: 0.8181\n",
      "Epoch 41/50\n",
      "782/782 [==============================] - 16s 21ms/step - loss: 0.0626 - accuracy: 0.9865 - val_loss: 1.0243 - val_accuracy: 0.8199\n",
      "Epoch 42/50\n",
      "782/782 [==============================] - 17s 21ms/step - loss: 0.0624 - accuracy: 0.9865 - val_loss: 1.0989 - val_accuracy: 0.8198\n",
      "Epoch 43/50\n",
      "782/782 [==============================] - 16s 21ms/step - loss: 0.0624 - accuracy: 0.9865 - val_loss: 1.1281 - val_accuracy: 0.8201\n",
      "Epoch 44/50\n",
      "782/782 [==============================] - 16s 21ms/step - loss: 0.0624 - accuracy: 0.9865 - val_loss: 1.1861 - val_accuracy: 0.8212\n",
      "Epoch 45/50\n",
      "782/782 [==============================] - 16s 21ms/step - loss: 0.0624 - accuracy: 0.9865 - val_loss: 1.1983 - val_accuracy: 0.8212\n",
      "Epoch 46/50\n",
      "782/782 [==============================] - 16s 21ms/step - loss: 0.0624 - accuracy: 0.9865 - val_loss: 1.1758 - val_accuracy: 0.8210\n",
      "Epoch 47/50\n",
      "782/782 [==============================] - 16s 21ms/step - loss: 0.0726 - accuracy: 0.9831 - val_loss: 0.9883 - val_accuracy: 0.8160\n",
      "Epoch 48/50\n",
      "782/782 [==============================] - 16s 21ms/step - loss: 0.0688 - accuracy: 0.9838 - val_loss: 0.9413 - val_accuracy: 0.8151\n",
      "Epoch 49/50\n",
      "782/782 [==============================] - 16s 21ms/step - loss: 0.0626 - accuracy: 0.9863 - val_loss: 1.0914 - val_accuracy: 0.8217\n",
      "Epoch 50/50\n",
      "782/782 [==============================] - 16s 21ms/step - loss: 0.0630 - accuracy: 0.9863 - val_loss: 0.9115 - val_accuracy: 0.8156\n"
     ]
    }
   ],
   "source": [
    "history2 = model2.fit(padded, training_labels_final, epochs=num_epochs, validation_data=(testing_padded, testing_labels_final))"
   ]
  },
  {
   "cell_type": "code",
   "execution_count": 11,
   "metadata": {},
   "outputs": [
    {
     "data": {
      "image/png": "[encoded data removed]",
      "text/plain": [
       "<Figure size 432x288 with 1 Axes>"
      ]
     },
     "metadata": {
      "needs_background": "light"
     },
     "output_type": "display_data"
    },
    {
     "data": {
      "image/png": "[encoded data removed]",
      "text/plain": [
       "<Figure size 432x288 with 1 Axes>"
      ]
     },
     "metadata": {
      "needs_background": "light"
     },
     "output_type": "display_data"
    }
   ],
   "source": [
    "plot_graphs(history2, 'accuracy')\n",
    "plot_graphs(history2, 'loss')"
   ]
  },
  {
   "cell_type": "code",
   "execution_count": 12,
   "metadata": {
    "id": "K_Jc7cY3Qxke"
   },
   "outputs": [
    {
     "name": "stdout",
     "output_type": "stream",
     "text": [
      "Model: \"sequential_2\"\n",
      "_________________________________________________________________\n",
      "Layer (type)                 Output Shape              Param #   \n",
      "=================================================================\n",
      "embedding_2 (Embedding)      (None, 120, 16)           160000    \n",
      "_________________________________________________________________\n",
      "conv1d (Conv1D)              (None, 116, 128)          10368     \n",
      "_________________________________________________________________\n",
      "global_average_pooling1d (Gl (None, 128)               0         \n",
      "_________________________________________________________________\n",
      "dense_4 (Dense)              (None, 6)                 774       \n",
      "_________________________________________________________________\n",
      "dense_5 (Dense)              (None, 1)                 7         \n",
      "=================================================================\n",
      "Total params: 171,149\n",
      "Trainable params: 171,149\n",
      "Non-trainable params: 0\n",
      "_________________________________________________________________\n"
     ]
    }
   ],
   "source": [
    "# Model Definition with Conv1D\n",
    "model3 = tf.keras.Sequential([\n",
    "    tf.keras.layers.Embedding(vocab_size, embedding_dim, input_length=max_length),\n",
    "    tf.keras.layers.Conv1D(128, 5, activation='relu'),\n",
    "    tf.keras.layers.GlobalAveragePooling1D(),\n",
    "    tf.keras.layers.Dense(6, activation='relu'),\n",
    "    tf.keras.layers.Dense(1, activation='sigmoid')\n",
    "])\n",
    "model3.compile(loss='binary_crossentropy',optimizer='adam',metrics=['accuracy'])\n",
    "model3.summary()\n"
   ]
  },
  {
   "cell_type": "code",
   "execution_count": 13,
   "metadata": {},
   "outputs": [
    {
     "name": "stdout",
     "output_type": "stream",
     "text": [
      "Epoch 1/50\n",
      "782/782 [==============================] - 9s 9ms/step - loss: 0.4462 - accuracy: 0.7798 - val_loss: 0.3453 - val_accuracy: 0.8504\n",
      "Epoch 2/50\n",
      "782/782 [==============================] - 7s 9ms/step - loss: 0.2804 - accuracy: 0.8846 - val_loss: 0.3500 - val_accuracy: 0.8480\n",
      "Epoch 3/50\n",
      "782/782 [==============================] - 7s 9ms/step - loss: 0.2269 - accuracy: 0.9110 - val_loss: 0.3831 - val_accuracy: 0.8399\n",
      "Epoch 4/50\n",
      "782/782 [==============================] - 7s 9ms/step - loss: 0.1900 - accuracy: 0.9275 - val_loss: 0.4192 - val_accuracy: 0.8342\n",
      "Epoch 5/50\n",
      "782/782 [==============================] - 7s 9ms/step - loss: 0.1562 - accuracy: 0.9452 - val_loss: 0.4525 - val_accuracy: 0.8278\n",
      "Epoch 6/50\n",
      "782/782 [==============================] - 7s 9ms/step - loss: 0.1287 - accuracy: 0.9565 - val_loss: 0.5106 - val_accuracy: 0.8233\n",
      "Epoch 7/50\n",
      "782/782 [==============================] - 7s 9ms/step - loss: 0.1055 - accuracy: 0.9672 - val_loss: 0.5722 - val_accuracy: 0.8180\n",
      "Epoch 8/50\n",
      "782/782 [==============================] - 8s 10ms/step - loss: 0.0850 - accuracy: 0.9752 - val_loss: 0.6661 - val_accuracy: 0.8137\n",
      "Epoch 9/50\n",
      "782/782 [==============================] - 7s 9ms/step - loss: 0.0712 - accuracy: 0.9790 - val_loss: 0.7347 - val_accuracy: 0.8090\n",
      "Epoch 10/50\n",
      "782/782 [==============================] - 7s 9ms/step - loss: 0.0557 - accuracy: 0.9846 - val_loss: 0.8332 - val_accuracy: 0.8087\n",
      "Epoch 11/50\n",
      "782/782 [==============================] - 7s 9ms/step - loss: 0.0431 - accuracy: 0.9880 - val_loss: 0.9493 - val_accuracy: 0.8053\n",
      "Epoch 12/50\n",
      "782/782 [==============================] - 7s 9ms/step - loss: 0.0330 - accuracy: 0.9909 - val_loss: 1.0589 - val_accuracy: 0.8023\n",
      "Epoch 13/50\n",
      "782/782 [==============================] - 7s 9ms/step - loss: 0.0318 - accuracy: 0.9909 - val_loss: 1.1150 - val_accuracy: 0.8029\n",
      "Epoch 14/50\n",
      "782/782 [==============================] - 7s 9ms/step - loss: 0.0212 - accuracy: 0.9941 - val_loss: 1.2651 - val_accuracy: 0.7998\n",
      "Epoch 15/50\n",
      "782/782 [==============================] - 7s 9ms/step - loss: 0.0166 - accuracy: 0.9950 - val_loss: 1.4186 - val_accuracy: 0.7974\n",
      "Epoch 16/50\n",
      "782/782 [==============================] - 7s 9ms/step - loss: 0.0175 - accuracy: 0.9944 - val_loss: 1.4556 - val_accuracy: 0.7996\n",
      "Epoch 17/50\n",
      "782/782 [==============================] - 7s 9ms/step - loss: 0.0130 - accuracy: 0.9957 - val_loss: 1.6109 - val_accuracy: 0.7956\n",
      "Epoch 18/50\n",
      "782/782 [==============================] - 7s 9ms/step - loss: 0.0102 - accuracy: 0.9967 - val_loss: 1.7999 - val_accuracy: 0.7939\n",
      "Epoch 19/50\n",
      "782/782 [==============================] - 7s 9ms/step - loss: 0.0090 - accuracy: 0.9972 - val_loss: 1.8751 - val_accuracy: 0.7948\n",
      "Epoch 20/50\n",
      "782/782 [==============================] - 8s 10ms/step - loss: 0.0119 - accuracy: 0.9959 - val_loss: 1.9031 - val_accuracy: 0.7925\n",
      "Epoch 21/50\n",
      "782/782 [==============================] - 7s 9ms/step - loss: 0.0107 - accuracy: 0.9963 - val_loss: 1.8809 - val_accuracy: 0.7982\n",
      "Epoch 22/50\n",
      "782/782 [==============================] - 8s 10ms/step - loss: 0.0043 - accuracy: 0.9988 - val_loss: 1.9665 - val_accuracy: 0.7985\n",
      "Epoch 23/50\n",
      "782/782 [==============================] - 7s 9ms/step - loss: 0.0018 - accuracy: 0.9997 - val_loss: 2.0798 - val_accuracy: 0.7988\n",
      "Epoch 24/50\n",
      "782/782 [==============================] - 7s 9ms/step - loss: 0.0025 - accuracy: 0.9992 - val_loss: 2.1346 - val_accuracy: 0.7996\n",
      "Epoch 25/50\n",
      "782/782 [==============================] - 7s 9ms/step - loss: 0.0101 - accuracy: 0.9966 - val_loss: 2.1365 - val_accuracy: 0.7972\n",
      "Epoch 26/50\n",
      "782/782 [==============================] - 7s 9ms/step - loss: 0.0170 - accuracy: 0.9942 - val_loss: 2.0568 - val_accuracy: 0.7979\n",
      "Epoch 27/50\n",
      "782/782 [==============================] - 8s 10ms/step - loss: 0.0061 - accuracy: 0.9981 - val_loss: 2.0846 - val_accuracy: 0.8011\n",
      "Epoch 28/50\n",
      "782/782 [==============================] - 7s 9ms/step - loss: 0.0013 - accuracy: 0.9999 - val_loss: 2.2036 - val_accuracy: 0.7978\n",
      "Epoch 29/50\n",
      "782/782 [==============================] - 7s 9ms/step - loss: 2.1652e-04 - accuracy: 1.0000 - val_loss: 2.2333 - val_accuracy: 0.7989\n",
      "Epoch 30/50\n",
      "782/782 [==============================] - 7s 9ms/step - loss: 1.0060e-04 - accuracy: 1.0000 - val_loss: 2.3010 - val_accuracy: 0.7982\n",
      "Epoch 31/50\n",
      "782/782 [==============================] - 7s 9ms/step - loss: 6.7099e-05 - accuracy: 1.0000 - val_loss: 2.3604 - val_accuracy: 0.7981\n",
      "Epoch 32/50\n",
      "782/782 [==============================] - 7s 9ms/step - loss: 4.5997e-05 - accuracy: 1.0000 - val_loss: 2.4618 - val_accuracy: 0.7988\n",
      "Epoch 33/50\n",
      "782/782 [==============================] - 8s 11ms/step - loss: 2.8759e-05 - accuracy: 1.0000 - val_loss: 2.5598 - val_accuracy: 0.7984\n",
      "Epoch 34/50\n",
      "782/782 [==============================] - 7s 9ms/step - loss: 1.9250e-05 - accuracy: 1.0000 - val_loss: 2.6596 - val_accuracy: 0.7984\n",
      "Epoch 35/50\n",
      "782/782 [==============================] - 7s 9ms/step - loss: 1.2568e-05 - accuracy: 1.0000 - val_loss: 2.7596 - val_accuracy: 0.7986\n",
      "Epoch 36/50\n",
      "782/782 [==============================] - 7s 9ms/step - loss: 8.0757e-06 - accuracy: 1.0000 - val_loss: 2.8704 - val_accuracy: 0.7988\n",
      "Epoch 37/50\n",
      "782/782 [==============================] - 7s 9ms/step - loss: 5.1236e-06 - accuracy: 1.0000 - val_loss: 2.9910 - val_accuracy: 0.7988\n",
      "Epoch 38/50\n",
      "782/782 [==============================] - 7s 9ms/step - loss: 3.1744e-06 - accuracy: 1.0000 - val_loss: 3.1299 - val_accuracy: 0.7984\n",
      "Epoch 39/50\n",
      "782/782 [==============================] - 8s 10ms/step - loss: 1.9908e-06 - accuracy: 1.0000 - val_loss: 3.2537 - val_accuracy: 0.7987\n",
      "Epoch 40/50\n",
      "782/782 [==============================] - 7s 9ms/step - loss: 1.2332e-06 - accuracy: 1.0000 - val_loss: 3.3754 - val_accuracy: 0.7987\n",
      "Epoch 41/50\n",
      "782/782 [==============================] - 7s 9ms/step - loss: 7.8204e-07 - accuracy: 1.0000 - val_loss: 3.4948 - val_accuracy: 0.7986\n",
      "Epoch 42/50\n",
      "782/782 [==============================] - 7s 9ms/step - loss: 5.0577e-07 - accuracy: 1.0000 - val_loss: 3.6209 - val_accuracy: 0.7988\n",
      "Epoch 43/50\n",
      "782/782 [==============================] - 7s 9ms/step - loss: 3.1977e-07 - accuracy: 1.0000 - val_loss: 3.7388 - val_accuracy: 0.7992\n",
      "Epoch 44/50\n",
      "782/782 [==============================] - 7s 9ms/step - loss: 2.0538e-07 - accuracy: 1.0000 - val_loss: 3.8589 - val_accuracy: 0.7993\n",
      "Epoch 45/50\n",
      "782/782 [==============================] - 7s 9ms/step - loss: 1.3584e-07 - accuracy: 1.0000 - val_loss: 3.9722 - val_accuracy: 0.7992\n",
      "Epoch 46/50\n",
      "782/782 [==============================] - 7s 10ms/step - loss: 8.8582e-08 - accuracy: 1.0000 - val_loss: 4.1014 - val_accuracy: 0.7989\n",
      "Epoch 47/50\n",
      "782/782 [==============================] - 7s 9ms/step - loss: 6.0458e-08 - accuracy: 1.0000 - val_loss: 4.2002 - val_accuracy: 0.7990\n",
      "Epoch 48/50\n",
      "782/782 [==============================] - 7s 9ms/step - loss: 4.1450e-08 - accuracy: 1.0000 - val_loss: 4.2939 - val_accuracy: 0.7990\n",
      "Epoch 49/50\n",
      "782/782 [==============================] - 7s 9ms/step - loss: 2.8439e-08 - accuracy: 1.0000 - val_loss: 4.3891 - val_accuracy: 0.7992\n",
      "Epoch 50/50\n",
      "782/782 [==============================] - 7s 9ms/step - loss: 1.9857e-08 - accuracy: 1.0000 - val_loss: 4.4762 - val_accuracy: 0.7989\n"
     ]
    }
   ],
   "source": [
    "history3 = model3.fit(padded, training_labels_final, epochs=num_epochs, validation_data=(testing_padded, testing_labels_final))"
   ]
  },
  {
   "cell_type": "code",
   "execution_count": 14,
   "metadata": {},
   "outputs": [
    {
     "data": {
      "image/png": "[encoded data removed]",
      "text/plain": [
       "<Figure size 432x288 with 1 Axes>"
      ]
     },
     "metadata": {
      "needs_background": "light"
     },
     "output_type": "display_data"
    },
    {
     "data": {
      "image/png": "[encoded data removed]",
      "text/plain": [
       "<Figure size 432x288 with 1 Axes>"
      ]
     },
     "metadata": {
      "needs_background": "light"
     },
     "output_type": "display_data"
    }
   ],
   "source": [
    "plot_graphs(history3, 'accuracy')\n",
    "plot_graphs(history3, 'loss')"
   ]
  }
 ],
 "metadata": {
  "accelerator": "GPU",
  "colab": {
   "collapsed_sections": [],
   "name": "C3_W3_Lab_4_imdb_reviews_with_GRU_LSTM_Conv1D.ipynb",
   "provenance": [],
   "toc_visible": true
  },
  "kernelspec": {
   "display_name": "Python 3 (ipykernel)",
   "language": "python",
   "name": "python3"
  },
  "language_info": {
   "codemirror_mode": {
    "name": "ipython",
    "version": 3
   },
   "file_extension": ".py",
   "mimetype": "text/x-python",
   "name": "python",
   "nbconvert_exporter": "python",
   "pygments_lexer": "ipython3",
   "version": "3.8.12"
  }
 },
 "nbformat": 4,
 "nbformat_minor": 1
}
