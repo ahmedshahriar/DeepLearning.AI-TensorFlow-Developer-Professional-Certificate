{
  "nbformat": 4,
  "nbformat_minor": 0,
  "metadata": {
    "accelerator": "GPU",
    "colab": {
      "name": "Copy of C3_W2_Assignment.ipynb",
      "provenance": [],
      "collapsed_sections": []
    },
    "kernelspec": {
      "display_name": "Python 3",
      "language": "python",
      "name": "python3"
    },
    "language_info": {
      "codemirror_mode": {
        "name": "ipython",
        "version": 3
      },
      "file_extension": ".py",
      "mimetype": "text/x-python",
      "name": "python",
      "nbconvert_exporter": "python",
      "pygments_lexer": "ipython3",
      "version": "3.8.5"
    }
  },
  "cells": [
    {
      "cell_type": "markdown",
      "metadata": {
        "id": "dBYOOlm8TFfu"
      },
      "source": [
        "##### Copyright 2019 The TensorFlow Authors."
      ]
    },
    {
      "cell_type": "code",
      "metadata": {
        "id": "zX4Kg8DUTKWO"
      },
      "source": [
        "#@title Licensed under the Apache License, Version 2.0 (the \"License\");\n",
        "# you may not use this file except in compliance with the License.\n",
        "# You may obtain a copy of the License at\n",
        "#\n",
        "# https://www.apache.org/licenses/LICENSE-2.0\n",
        "#\n",
        "# Unless required by applicable law or agreed to in writing, software\n",
        "# distributed under the License is distributed on an \"AS IS\" BASIS,\n",
        "# WITHOUT WARRANTIES OR CONDITIONS OF ANY KIND, either express or implied.\n",
        "# See the License for the specific language governing permissions and\n",
        "# limitations under the License."
      ],
      "execution_count": null,
      "outputs": []
    },
    {
      "cell_type": "markdown",
      "metadata": {
        "id": "-mx-T6SJTFfv"
      },
      "source": [
        "**Note:** This notebook can run using TensorFlow 2.5.0"
      ]
    },
    {
      "cell_type": "code",
      "metadata": {
        "id": "dbp5Amp9TFfv"
      },
      "source": [
        "#!pip install tensorflow==2.5.0"
      ],
      "execution_count": null,
      "outputs": []
    },
    {
      "cell_type": "code",
      "metadata": {
        "id": "gnwiOnGyW5JK",
        "colab": {
          "base_uri": "https://localhost:8080/"
        },
        "outputId": "f2200729-718b-4c51-dd5d-11f60e24f554"
      },
      "source": [
        "import csv\n",
        "import tensorflow as tf\n",
        "import numpy as np\n",
        "from tensorflow.keras.preprocessing.text import Tokenizer\n",
        "from tensorflow.keras.preprocessing.sequence import pad_sequences\n",
        "\n",
        "# bbc-text.csv\n",
        "!gdown --id 1rX10xeI3eUJmOLsc4pOPY6AnCLO8DxNj"
      ],
      "execution_count": 1,
      "outputs": [
        {
          "output_type": "stream",
          "name": "stdout",
          "text": [
            "Downloading...\n",
            "From: https://drive.google.com/uc?id=1rX10xeI3eUJmOLsc4pOPY6AnCLO8DxNj\n",
            "To: /content/bbc-text.csv\n",
            "100% 5.06M/5.06M [00:00<00:00, 21.9MB/s]\n"
          ]
        }
      ]
    },
    {
      "cell_type": "code",
      "metadata": {
        "id": "EYo6A4v5ZABQ"
      },
      "source": [
        "vocab_size = 1000 # YOUR CODE HERE\n",
        "embedding_dim = 16 # YOUR CODE HERE\n",
        "max_length = 120 # YOUR CODE HERE\n",
        "trunc_type = 'post' # YOUR CODE HERE\n",
        "padding_type = 'post' # YOUR CODE HERE\n",
        "oov_tok = \"<oov>\"# YOUR CODE HERE\n",
        "training_portion = .8"
      ],
      "execution_count": 31,
      "outputs": []
    },
    {
      "cell_type": "code",
      "metadata": {
        "id": "iU1qq3_SZBx_",
        "colab": {
          "base_uri": "https://localhost:8080/"
        },
        "outputId": "c29d1113-24ef-498f-ff75-3f97a68ec425"
      },
      "source": [
        "sentences = []\n",
        "labels = []\n",
        "stopwords = [ \"a\", \"about\", \"above\", \"after\", \"again\", \"against\", \"all\", \"am\", \"an\", \"and\", \"any\", \"are\", \"as\", \"at\", \"be\", \"because\", \"been\", \"before\", \"being\", \"below\", \"between\", \"both\", \"but\", \"by\", \"could\", \"did\", \"do\", \"does\", \"doing\", \"down\", \"during\", \"each\", \"few\", \"for\", \"from\", \"further\", \"had\", \"has\", \"have\", \"having\", \"he\", \"he'd\", \"he'll\", \"he's\", \"her\", \"here\", \"here's\", \"hers\", \"herself\", \"him\", \"himself\", \"his\", \"how\", \"how's\", \"i\", \"i'd\", \"i'll\", \"i'm\", \"i've\", \"if\", \"in\", \"into\", \"is\", \"it\", \"it's\", \"its\", \"itself\", \"let's\", \"me\", \"more\", \"most\", \"my\", \"myself\", \"nor\", \"of\", \"on\", \"once\", \"only\", \"or\", \"other\", \"ought\", \"our\", \"ours\", \"ourselves\", \"out\", \"over\", \"own\", \"same\", \"she\", \"she'd\", \"she'll\", \"she's\", \"should\", \"so\", \"some\", \"such\", \"than\", \"that\", \"that's\", \"the\", \"their\", \"theirs\", \"them\", \"themselves\", \"then\", \"there\", \"there's\", \"these\", \"they\", \"they'd\", \"they'll\", \"they're\", \"they've\", \"this\", \"those\", \"through\", \"to\", \"too\", \"under\", \"until\", \"up\", \"very\", \"was\", \"we\", \"we'd\", \"we'll\", \"we're\", \"we've\", \"were\", \"what\", \"what's\", \"when\", \"when's\", \"where\", \"where's\", \"which\", \"while\", \"who\", \"who's\", \"whom\", \"why\", \"why's\", \"with\", \"would\", \"you\", \"you'd\", \"you'll\", \"you're\", \"you've\", \"your\", \"yours\", \"yourself\", \"yourselves\" ]\n",
        "print(len(stopwords))\n",
        "# Expected Output\n",
        "# 153"
      ],
      "execution_count": 32,
      "outputs": [
        {
          "output_type": "stream",
          "name": "stdout",
          "text": [
            "153\n"
          ]
        }
      ]
    },
    {
      "cell_type": "code",
      "metadata": {
        "id": "eutB2xMiZD0e",
        "colab": {
          "base_uri": "https://localhost:8080/"
        },
        "outputId": "2716249c-df78-4c4c-fbfa-12251477b508"
      },
      "source": [
        "with open(\"./bbc-text.csv\", 'r') as csvfile:\n",
        "    ### START CODE HERE\n",
        "    reader = csv.reader(csvfile, delimiter=',')\n",
        "    next(reader)\n",
        "    for row in reader:\n",
        "      labels.append(row[0])\n",
        "      sentence = row[1]\n",
        "      for s in stopwords:\n",
        "        token = \" \"+s+\" \"\n",
        "        sentence = sentence.replace(token, ' ')\n",
        "      # sentence = \" \".join([s for s in sentence.split(' ') if s not in stopwords])\n",
        "      sentences.append(sentence)\n",
        "    ### END CODE HERE\n",
        "\n",
        "    \n",
        "print(len(labels))\n",
        "print(len(sentences))\n",
        "print(sentences[0])\n",
        "# Expected Output\n",
        "# 2225\n",
        "# 2225\n",
        "# tv future hands viewers home theatre systems  plasma high-definition tvs  digital video recorders moving living room  way people watch tv will radically different five years  time.  according expert panel gathered annual consumer electronics show las vegas discuss new technologies will impact one favourite pastimes. us leading trend  programmes content will delivered viewers via home networks  cable  satellite  telecoms companies  broadband service providers front rooms portable devices.  one talked-about technologies ces digital personal video recorders (dvr pvr). set-top boxes  like us s tivo uk s sky+ system  allow people record  store  play  pause forward wind tv programmes want.  essentially  technology allows much personalised tv. also built-in high-definition tv sets  big business japan us  slower take off europe lack high-definition programming. not can people forward wind adverts  can also forget abiding network channel schedules  putting together a-la-carte entertainment. us networks cable satellite companies worried means terms advertising revenues well  brand identity  viewer loyalty channels. although us leads technology moment  also concern raised europe  particularly growing uptake services like sky+.  happens today  will see nine months years  time uk   adam hume  bbc broadcast s futurologist told bbc news website. likes bbc  no issues lost advertising revenue yet. pressing issue moment commercial uk broadcasters  brand loyalty important everyone.  will talking content brands rather network brands   said tim hanlon  brand communications firm starcom mediavest.  reality broadband connections  anybody can producer content.  added:  challenge now hard promote programme much choice.   means  said stacey jolna  senior vice president tv guide tv group  way people find content want watch simplified tv viewers. means networks  us terms  channels take leaf google s book search engine future  instead scheduler help people find want watch. kind channel model might work younger ipod generation used taking control gadgets play them. might not suit everyone  panel recognised. older generations comfortable familiar schedules channel brands know getting. perhaps not want much choice put hands  mr hanlon suggested.  end  kids just diapers pushing buttons already - everything possible available   said mr hanlon.  ultimately  consumer will tell market want.   50 000 new gadgets technologies showcased ces  many enhancing tv-watching experience. high-definition tv sets everywhere many new models lcd (liquid crystal display) tvs launched dvr capability built  instead external boxes. one example launched show humax s 26-inch lcd tv 80-hour tivo dvr dvd recorder. one us s biggest satellite tv companies  directtv  even launched branded dvr show 100-hours recording capability  instant replay  search function. set can pause rewind tv 90 hours. microsoft chief bill gates announced pre-show keynote speech partnership tivo  called tivotogo  means people can play recorded programmes windows pcs mobile devices. reflect increasing trend freeing multimedia people can watch want  want."
      ],
      "execution_count": 33,
      "outputs": [
        {
          "output_type": "stream",
          "name": "stdout",
          "text": [
            "2225\n",
            "2225\n",
            "tv future hands viewers home theatre systems  plasma high-definition tvs  digital video recorders moving living room  way people watch tv will radically different five years  time.  according expert panel gathered annual consumer electronics show las vegas discuss new technologies will impact one favourite pastimes. us leading trend  programmes content will delivered viewers via home networks  cable  satellite  telecoms companies  broadband service providers front rooms portable devices.  one talked-about technologies ces digital personal video recorders (dvr pvr). set-top boxes  like us s tivo uk s sky+ system  allow people record  store  play  pause forward wind tv programmes want.  essentially  technology allows much personalised tv. also built-in high-definition tv sets  big business japan us  slower take off europe lack high-definition programming. not can people forward wind adverts  can also forget abiding network channel schedules  putting together a-la-carte entertainment. us networks cable satellite companies worried means terms advertising revenues well  brand identity  viewer loyalty channels. although us leads technology moment  also concern raised europe  particularly growing uptake services like sky+.  happens today  will see nine months years  time uk   adam hume  bbc broadcast s futurologist told bbc news website. likes bbc  no issues lost advertising revenue yet. pressing issue moment commercial uk broadcasters  brand loyalty important everyone.  will talking content brands rather network brands   said tim hanlon  brand communications firm starcom mediavest.  reality broadband connections  anybody can producer content.  added:  challenge now hard promote programme much choice.   means  said stacey jolna  senior vice president tv guide tv group  way people find content want watch simplified tv viewers. means networks  us terms  channels take leaf google s book search engine future  instead scheduler help people find want watch. kind channel model might work younger ipod generation used taking control gadgets play them. might not suit everyone  panel recognised. older generations comfortable familiar schedules channel brands know getting. perhaps not want much choice put hands  mr hanlon suggested.  end  kids just diapers pushing buttons already - everything possible available   said mr hanlon.  ultimately  consumer will tell market want.   50 000 new gadgets technologies showcased ces  many enhancing tv-watching experience. high-definition tv sets everywhere many new models lcd (liquid crystal display) tvs launched dvr capability built  instead external boxes. one example launched show humax s 26-inch lcd tv 80-hour tivo dvr dvd recorder. one us s biggest satellite tv companies  directtv  even launched branded dvr show 100-hours recording capability  instant replay  search function. set can pause rewind tv 90 hours. microsoft chief bill gates announced pre-show keynote speech partnership tivo  called tivotogo  means people can play recorded programmes windows pcs mobile devices. reflect increasing trend freeing multimedia people can watch want  want.\n"
          ]
        }
      ]
    },
    {
      "cell_type": "code",
      "source": [
        "len(sentences)* training_portion"
      ],
      "metadata": {
        "colab": {
          "base_uri": "https://localhost:8080/"
        },
        "id": "QkEyR9gVz4lD",
        "outputId": "0a8a2d88-afdc-41bc-a552-992305dcf1f9"
      },
      "execution_count": 34,
      "outputs": [
        {
          "output_type": "execute_result",
          "data": {
            "text/plain": [
              "1780.0"
            ]
          },
          "metadata": {},
          "execution_count": 34
        }
      ]
    },
    {
      "cell_type": "code",
      "metadata": {
        "id": "XfdaWh06ZGe3",
        "colab": {
          "base_uri": "https://localhost:8080/"
        },
        "outputId": "9acabde0-4cfc-4102-e437-453f842118d3"
      },
      "source": [
        "train_size = int(len(sentences)* training_portion) # YOUR CODE HERE\n",
        "\n",
        "train_sentences = sentences[0:train_size] # YOUR CODE HERE\n",
        "train_labels = labels[0:train_size] # YOUR CODE HERE\n",
        "\n",
        "validation_sentences =  sentences[train_size:] # YOUR CODE HERE\n",
        "validation_labels = labels[train_size:]# YOUR CODE HERE\n",
        "\n",
        "print(train_size)\n",
        "print(len(train_sentences))\n",
        "print(len(train_labels))\n",
        "print(len(validation_sentences))\n",
        "print(len(validation_labels))\n",
        "\n",
        "# Expected output (if training_portion=.8)\n",
        "# 1780\n",
        "# 1780\n",
        "# 1780\n",
        "# 445\n",
        "# 445"
      ],
      "execution_count": 35,
      "outputs": [
        {
          "output_type": "stream",
          "name": "stdout",
          "text": [
            "1780\n",
            "1780\n",
            "1780\n",
            "445\n",
            "445\n"
          ]
        }
      ]
    },
    {
      "cell_type": "code",
      "metadata": {
        "id": "ULzA8xhwZI22",
        "colab": {
          "base_uri": "https://localhost:8080/"
        },
        "outputId": "53ced160-d509-42f7-e289-99abc50e824f"
      },
      "source": [
        "tokenizer = Tokenizer(num_words=vocab_size, oov_token=oov_tok) # YOUR CODE HERE\n",
        "tokenizer.fit_on_texts(train_sentences) # YOUR CODE HERE)\n",
        "word_index = tokenizer.word_index # YOUR CODE HERE\n",
        "\n",
        "train_sequences = tokenizer.texts_to_sequences(train_sentences) # YOUR CODE HERE\n",
        "train_padded = pad_sequences(train_sequences, maxlen=max_length, truncating=trunc_type, padding=padding_type) # YOUR CODE HERE\n",
        "\n",
        "print(len(train_sequences[0]))\n",
        "print(len(train_padded[0]))\n",
        "\n",
        "print(len(train_sequences[1]))\n",
        "print(len(train_padded[1]))\n",
        "\n",
        "print(len(train_sequences[10]))\n",
        "print(len(train_padded[10]))\n",
        "\n",
        "# Expected Ouput\n",
        "# 449\n",
        "# 120\n",
        "# 200\n",
        "# 120\n",
        "# 192\n",
        "# 120"
      ],
      "execution_count": 36,
      "outputs": [
        {
          "output_type": "stream",
          "name": "stdout",
          "text": [
            "449\n",
            "120\n",
            "200\n",
            "120\n",
            "192\n",
            "120\n"
          ]
        }
      ]
    },
    {
      "cell_type": "code",
      "metadata": {
        "id": "c8PeFWzPZLW_",
        "colab": {
          "base_uri": "https://localhost:8080/"
        },
        "outputId": "b49912ff-c82b-473d-96f7-21c0fe94776b"
      },
      "source": [
        "validation_sequences = tokenizer.texts_to_sequences(validation_sentences) # YOUR CODE HERE\n",
        "validation_padded = pad_sequences(validation_sequences, maxlen=max_length, truncating=trunc_type, padding=padding_type) # YOUR CODE HERE\n",
        "\n",
        "print(len(validation_sequences))\n",
        "print(validation_padded.shape)\n",
        "\n",
        "# Expected output\n",
        "# 445\n",
        "# (445, 120)"
      ],
      "execution_count": 37,
      "outputs": [
        {
          "output_type": "stream",
          "name": "stdout",
          "text": [
            "445\n",
            "(445, 120)\n"
          ]
        }
      ]
    },
    {
      "cell_type": "code",
      "metadata": {
        "id": "XkWiQ_FKZNp2",
        "colab": {
          "base_uri": "https://localhost:8080/"
        },
        "outputId": "dffe830e-45ae-46d0-c1e4-a3f207b8b9fc"
      },
      "source": [
        "label_tokenizer = Tokenizer() # YOUR CODE HERE\n",
        "label_tokenizer.fit_on_texts(train_labels) # YOUR CODE HERE)\n",
        "\n",
        "training_label_seq = np.array(label_tokenizer.texts_to_sequences(train_labels)) # YOUR CODE HERE\n",
        "validation_label_seq = np.array(label_tokenizer.texts_to_sequences(validation_labels)) # YOUR CODE HERE\n",
        "\n",
        "print(training_label_seq[0])\n",
        "print(training_label_seq[1])\n",
        "print(training_label_seq[2])\n",
        "print(training_label_seq.shape)\n",
        "\n",
        "print(validation_label_seq[0])\n",
        "print(validation_label_seq[1])\n",
        "print(validation_label_seq[2])\n",
        "print(validation_label_seq.shape)\n",
        "\n",
        "# Expected output\n",
        "# [4]\n",
        "# [2]\n",
        "# [1]\n",
        "# (1780, 1)\n",
        "# [5]\n",
        "# [4]\n",
        "# [3]\n",
        "# (445, 1)"
      ],
      "execution_count": 38,
      "outputs": [
        {
          "output_type": "stream",
          "name": "stdout",
          "text": [
            "[5]\n",
            "[2]\n",
            "[1]\n",
            "(1780, 1)\n",
            "[4]\n",
            "[5]\n",
            "[3]\n",
            "(445, 1)\n"
          ]
        }
      ]
    },
    {
      "cell_type": "code",
      "metadata": {
        "id": "HZ5um4MWZP-W",
        "colab": {
          "base_uri": "https://localhost:8080/"
        },
        "outputId": "3035af24-ac8b-4a45-a1a3-0cf521a652f1"
      },
      "source": [
        "model = tf.keras.Sequential([\n",
        "# YOUR CODE HERE\n",
        "  tf.keras.layers.Embedding(vocab_size, embedding_dim, input_length=max_length),\n",
        "  tf.keras.layers.GlobalAveragePooling1D(),\n",
        "  tf.keras.layers.Dense(24, activation='relu'),\n",
        "  tf.keras.layers.Dense(6, activation='softmax')\n",
        "])\n",
        "\n",
        "model.compile(loss='sparse_categorical_crossentropy',\n",
        "              optimizer='adam',\n",
        "              metrics=['accuracy'])\n",
        "\n",
        "model.summary()\n",
        "\n",
        "# Expected Output\n",
        "# Layer (type)                 Output Shape              Param #   \n",
        "# =================================================================\n",
        "# embedding (Embedding)        (None, 120, 16)           16000     \n",
        "# _________________________________________________________________\n",
        "# global_average_pooling1d (Gl (None, 16)                0         \n",
        "# _________________________________________________________________\n",
        "# dense (Dense)                (None, 24)                408       \n",
        "# _________________________________________________________________\n",
        "# dense_1 (Dense)              (None, 6)                 150       \n",
        "# =================================================================\n",
        "# Total params: 16,558\n",
        "# Trainable params: 16,558\n",
        "# Non-trainable params: 0"
      ],
      "execution_count": 39,
      "outputs": [
        {
          "output_type": "stream",
          "name": "stdout",
          "text": [
            "Model: \"sequential_3\"\n",
            "_________________________________________________________________\n",
            " Layer (type)                Output Shape              Param #   \n",
            "=================================================================\n",
            " embedding_3 (Embedding)     (None, 120, 16)           16000     \n",
            "                                                                 \n",
            " global_average_pooling1d_3   (None, 16)               0         \n",
            " (GlobalAveragePooling1D)                                        \n",
            "                                                                 \n",
            " dense_6 (Dense)             (None, 24)                408       \n",
            "                                                                 \n",
            " dense_7 (Dense)             (None, 6)                 150       \n",
            "                                                                 \n",
            "=================================================================\n",
            "Total params: 16,558\n",
            "Trainable params: 16,558\n",
            "Non-trainable params: 0\n",
            "_________________________________________________________________\n"
          ]
        }
      ]
    },
    {
      "cell_type": "code",
      "metadata": {
        "id": "XsfdxySKZSXu",
        "colab": {
          "base_uri": "https://localhost:8080/"
        },
        "outputId": "cfe26d0b-ae58-4547-9c09-fe6c8793dba3"
      },
      "source": [
        "num_epochs = 30\n",
        "history = model.fit(train_padded, training_label_seq,\n",
        "                    verbose=2,\n",
        "                    epochs=num_epochs,\n",
        "                    validation_data=(validation_padded, validation_label_seq)) # YOUR CODE HERE)"
      ],
      "execution_count": 41,
      "outputs": [
        {
          "output_type": "stream",
          "name": "stdout",
          "text": [
            "Epoch 1/30\n",
            "56/56 - 6s - loss: 1.7699 - accuracy: 0.2213 - val_loss: 1.7412 - val_accuracy: 0.2270 - 6s/epoch - 103ms/step\n",
            "Epoch 2/30\n",
            "56/56 - 0s - loss: 1.7042 - accuracy: 0.2303 - val_loss: 1.6629 - val_accuracy: 0.2292 - 211ms/epoch - 4ms/step\n",
            "Epoch 3/30\n",
            "56/56 - 0s - loss: 1.6105 - accuracy: 0.2584 - val_loss: 1.5585 - val_accuracy: 0.3348 - 261ms/epoch - 5ms/step\n",
            "Epoch 4/30\n",
            "56/56 - 0s - loss: 1.4720 - accuracy: 0.4202 - val_loss: 1.3936 - val_accuracy: 0.5303 - 315ms/epoch - 6ms/step\n",
            "Epoch 5/30\n",
            "56/56 - 0s - loss: 1.2606 - accuracy: 0.6820 - val_loss: 1.1592 - val_accuracy: 0.7573 - 286ms/epoch - 5ms/step\n",
            "Epoch 6/30\n",
            "56/56 - 0s - loss: 1.0126 - accuracy: 0.8292 - val_loss: 0.9365 - val_accuracy: 0.8292 - 227ms/epoch - 4ms/step\n",
            "Epoch 7/30\n",
            "56/56 - 0s - loss: 0.7998 - accuracy: 0.8972 - val_loss: 0.7609 - val_accuracy: 0.8742 - 219ms/epoch - 4ms/step\n",
            "Epoch 8/30\n",
            "56/56 - 0s - loss: 0.6370 - accuracy: 0.9287 - val_loss: 0.6270 - val_accuracy: 0.9011 - 226ms/epoch - 4ms/step\n",
            "Epoch 9/30\n",
            "56/56 - 0s - loss: 0.5119 - accuracy: 0.9444 - val_loss: 0.5333 - val_accuracy: 0.9169 - 224ms/epoch - 4ms/step\n",
            "Epoch 10/30\n",
            "56/56 - 0s - loss: 0.4143 - accuracy: 0.9545 - val_loss: 0.4428 - val_accuracy: 0.9303 - 215ms/epoch - 4ms/step\n",
            "Epoch 11/30\n",
            "56/56 - 0s - loss: 0.3388 - accuracy: 0.9612 - val_loss: 0.3814 - val_accuracy: 0.9281 - 245ms/epoch - 4ms/step\n",
            "Epoch 12/30\n",
            "56/56 - 0s - loss: 0.2748 - accuracy: 0.9669 - val_loss: 0.3247 - val_accuracy: 0.9416 - 259ms/epoch - 5ms/step\n",
            "Epoch 13/30\n",
            "56/56 - 0s - loss: 0.2213 - accuracy: 0.9719 - val_loss: 0.2829 - val_accuracy: 0.9393 - 221ms/epoch - 4ms/step\n",
            "Epoch 14/30\n",
            "56/56 - 0s - loss: 0.1832 - accuracy: 0.9742 - val_loss: 0.2552 - val_accuracy: 0.9393 - 253ms/epoch - 5ms/step\n",
            "Epoch 15/30\n",
            "56/56 - 0s - loss: 0.1548 - accuracy: 0.9770 - val_loss: 0.2443 - val_accuracy: 0.9461 - 282ms/epoch - 5ms/step\n",
            "Epoch 16/30\n",
            "56/56 - 0s - loss: 0.1341 - accuracy: 0.9809 - val_loss: 0.2218 - val_accuracy: 0.9483 - 258ms/epoch - 5ms/step\n",
            "Epoch 17/30\n",
            "56/56 - 0s - loss: 0.1169 - accuracy: 0.9831 - val_loss: 0.2088 - val_accuracy: 0.9506 - 266ms/epoch - 5ms/step\n",
            "Epoch 18/30\n",
            "56/56 - 0s - loss: 0.1025 - accuracy: 0.9871 - val_loss: 0.1995 - val_accuracy: 0.9461 - 228ms/epoch - 4ms/step\n",
            "Epoch 19/30\n",
            "56/56 - 0s - loss: 0.0893 - accuracy: 0.9893 - val_loss: 0.1941 - val_accuracy: 0.9506 - 240ms/epoch - 4ms/step\n",
            "Epoch 20/30\n",
            "56/56 - 0s - loss: 0.0784 - accuracy: 0.9910 - val_loss: 0.1882 - val_accuracy: 0.9506 - 268ms/epoch - 5ms/step\n",
            "Epoch 21/30\n",
            "56/56 - 0s - loss: 0.0691 - accuracy: 0.9933 - val_loss: 0.1850 - val_accuracy: 0.9483 - 289ms/epoch - 5ms/step\n",
            "Epoch 22/30\n",
            "56/56 - 0s - loss: 0.0616 - accuracy: 0.9944 - val_loss: 0.1791 - val_accuracy: 0.9506 - 217ms/epoch - 4ms/step\n",
            "Epoch 23/30\n",
            "56/56 - 0s - loss: 0.0551 - accuracy: 0.9955 - val_loss: 0.1754 - val_accuracy: 0.9506 - 254ms/epoch - 5ms/step\n",
            "Epoch 24/30\n",
            "56/56 - 0s - loss: 0.0492 - accuracy: 0.9966 - val_loss: 0.1748 - val_accuracy: 0.9483 - 228ms/epoch - 4ms/step\n",
            "Epoch 25/30\n",
            "56/56 - 0s - loss: 0.0444 - accuracy: 0.9966 - val_loss: 0.1716 - val_accuracy: 0.9528 - 206ms/epoch - 4ms/step\n",
            "Epoch 26/30\n",
            "56/56 - 0s - loss: 0.0396 - accuracy: 0.9972 - val_loss: 0.1710 - val_accuracy: 0.9551 - 228ms/epoch - 4ms/step\n",
            "Epoch 27/30\n",
            "56/56 - 0s - loss: 0.0356 - accuracy: 0.9983 - val_loss: 0.1721 - val_accuracy: 0.9528 - 258ms/epoch - 5ms/step\n",
            "Epoch 28/30\n",
            "56/56 - 0s - loss: 0.0322 - accuracy: 0.9978 - val_loss: 0.1680 - val_accuracy: 0.9506 - 301ms/epoch - 5ms/step\n",
            "Epoch 29/30\n",
            "56/56 - 0s - loss: 0.0291 - accuracy: 0.9983 - val_loss: 0.1690 - val_accuracy: 0.9528 - 215ms/epoch - 4ms/step\n",
            "Epoch 30/30\n",
            "56/56 - 0s - loss: 0.0265 - accuracy: 0.9989 - val_loss: 0.1668 - val_accuracy: 0.9551 - 230ms/epoch - 4ms/step\n"
          ]
        }
      ]
    },
    {
      "cell_type": "code",
      "metadata": {
        "id": "dQ0BX2apXS9u",
        "colab": {
          "base_uri": "https://localhost:8080/",
          "height": 541
        },
        "outputId": "62f81f1b-ea4c-4fe2-b36d-fe575a7b7a24"
      },
      "source": [
        "import matplotlib.pyplot as plt\n",
        "\n",
        "\n",
        "def plot_graphs(history, string):\n",
        "  plt.plot(history.history[string])\n",
        "  plt.plot(history.history['val_'+string])\n",
        "  plt.xlabel(\"Epochs\")\n",
        "  plt.ylabel(string)\n",
        "  plt.legend([string, 'val_'+string])\n",
        "  plt.show()\n",
        "  \n",
        "plot_graphs(history, \"accuracy\")\n",
        "plot_graphs(history, \"loss\")"
      ],
      "execution_count": 43,
      "outputs": [
        {
          "output_type": "display_data",
          "data": {
            "image/png": "[encoded data removed]",
            "text/plain": [
              "<Figure size 432x288 with 1 Axes>"
            ]
          },
          "metadata": {
            "needs_background": "light"
          }
        },
        {
          "output_type": "display_data",
          "data": {
            "image/png": "[encoded data removed]",
            "text/plain": [
              "<Figure size 432x288 with 1 Axes>"
            ]
          },
          "metadata": {
            "needs_background": "light"
          }
        }
      ]
    },
    {
      "cell_type": "code",
      "metadata": {
        "id": "w7Xc-uWxXhML"
      },
      "source": [
        "reverse_word_index = dict([(value, key) for (key, value) in word_index.items()])\n",
        "\n",
        "def decode_sentence(text):\n",
        "    return ' '.join([reverse_word_index.get(i, '?') for i in text])\n"
      ],
      "execution_count": 44,
      "outputs": []
    },
    {
      "cell_type": "code",
      "metadata": {
        "id": "OhnFA_TDXrih",
        "colab": {
          "base_uri": "https://localhost:8080/"
        },
        "outputId": "32677a03-aac0-4084-9780-6882a9898c56"
      },
      "source": [
        "e = model.layers[0]\n",
        "weights = e.get_weights()[0]\n",
        "print(weights.shape) # shape: (vocab_size, embedding_dim)\n",
        "\n",
        "# Expected output\n",
        "# (1000, 16)"
      ],
      "execution_count": 45,
      "outputs": [
        {
          "output_type": "stream",
          "name": "stdout",
          "text": [
            "(1000, 16)\n"
          ]
        }
      ]
    },
    {
      "cell_type": "code",
      "metadata": {
        "id": "_POzcWWAXudL"
      },
      "source": [
        "import io\n",
        "\n",
        "out_v = io.open('vecs.tsv', 'w', encoding='utf-8')\n",
        "out_m = io.open('meta.tsv', 'w', encoding='utf-8')\n",
        "for word_num in range(1, vocab_size):\n",
        "  word = reverse_word_index[word_num]\n",
        "  embeddings = weights[word_num]\n",
        "  out_m.write(word + \"\\n\")\n",
        "  out_v.write('\\t'.join([str(x) for x in embeddings]) + \"\\n\")\n",
        "out_v.close()\n",
        "out_m.close()"
      ],
      "execution_count": 46,
      "outputs": []
    },
    {
      "cell_type": "code",
      "metadata": {
        "id": "VmqpQMZ_XyOa",
        "colab": {
          "base_uri": "https://localhost:8080/",
          "height": 17
        },
        "outputId": "e1abbf8f-3013-4f84-9d83-8b08e75f8bfd"
      },
      "source": [
        "try:\n",
        "  from google.colab import files\n",
        "except ImportError:\n",
        "  pass\n",
        "else:\n",
        "  files.download('vecs.tsv')\n",
        "  files.download('meta.tsv')"
      ],
      "execution_count": 47,
      "outputs": [
        {
          "output_type": "display_data",
          "data": {
            "application/javascript": [
              "\n",
              "    async function download(id, filename, size) {\n",
              "      if (!google.colab.kernel.accessAllowed) {\n",
              "        return;\n",
              "      }\n",
              "      const div = document.createElement('div');\n",
              "      const label = document.createElement('label');\n",
              "      label.textContent = `Downloading \"${filename}\": `;\n",
              "      div.appendChild(label);\n",
              "      const progress = document.createElement('progress');\n",
              "      progress.max = size;\n",
              "      div.appendChild(progress);\n",
              "      document.body.appendChild(div);\n",
              "\n",
              "      const buffers = [];\n",
              "      let downloaded = 0;\n",
              "\n",
              "      const channel = await google.colab.kernel.comms.open(id);\n",
              "      // Send a message to notify the kernel that we're ready.\n",
              "      channel.send({})\n",
              "\n",
              "      for await (const message of channel.messages) {\n",
              "        // Send a message to notify the kernel that we're ready.\n",
              "        channel.send({})\n",
              "        if (message.buffers) {\n",
              "          for (const buffer of message.buffers) {\n",
              "            buffers.push(buffer);\n",
              "            downloaded += buffer.byteLength;\n",
              "            progress.value = downloaded;\n",
              "          }\n",
              "        }\n",
              "      }\n",
              "      const blob = new Blob(buffers, {type: 'application/binary'});\n",
              "      const a = document.createElement('a');\n",
              "      a.href = window.URL.createObjectURL(blob);\n",
              "      a.download = filename;\n",
              "      div.appendChild(a);\n",
              "      a.click();\n",
              "      div.remove();\n",
              "    }\n",
              "  "
            ],
            "text/plain": [
              "<IPython.core.display.Javascript object>"
            ]
          },
          "metadata": {}
        },
        {
          "output_type": "display_data",
          "data": {
            "application/javascript": [
              "download(\"download_6af692ea-2a84-4714-b6c4-8a932700df18\", \"vecs.tsv\", 182151)"
            ],
            "text/plain": [
              "<IPython.core.display.Javascript object>"
            ]
          },
          "metadata": {}
        },
        {
          "output_type": "display_data",
          "data": {
            "application/javascript": [
              "\n",
              "    async function download(id, filename, size) {\n",
              "      if (!google.colab.kernel.accessAllowed) {\n",
              "        return;\n",
              "      }\n",
              "      const div = document.createElement('div');\n",
              "      const label = document.createElement('label');\n",
              "      label.textContent = `Downloading \"${filename}\": `;\n",
              "      div.appendChild(label);\n",
              "      const progress = document.createElement('progress');\n",
              "      progress.max = size;\n",
              "      div.appendChild(progress);\n",
              "      document.body.appendChild(div);\n",
              "\n",
              "      const buffers = [];\n",
              "      let downloaded = 0;\n",
              "\n",
              "      const channel = await google.colab.kernel.comms.open(id);\n",
              "      // Send a message to notify the kernel that we're ready.\n",
              "      channel.send({})\n",
              "\n",
              "      for await (const message of channel.messages) {\n",
              "        // Send a message to notify the kernel that we're ready.\n",
              "        channel.send({})\n",
              "        if (message.buffers) {\n",
              "          for (const buffer of message.buffers) {\n",
              "            buffers.push(buffer);\n",
              "            downloaded += buffer.byteLength;\n",
              "            progress.value = downloaded;\n",
              "          }\n",
              "        }\n",
              "      }\n",
              "      const blob = new Blob(buffers, {type: 'application/binary'});\n",
              "      const a = document.createElement('a');\n",
              "      a.href = window.URL.createObjectURL(blob);\n",
              "      a.download = filename;\n",
              "      div.appendChild(a);\n",
              "      a.click();\n",
              "      div.remove();\n",
              "    }\n",
              "  "
            ],
            "text/plain": [
              "<IPython.core.display.Javascript object>"
            ]
          },
          "metadata": {}
        },
        {
          "output_type": "display_data",
          "data": {
            "application/javascript": [
              "download(\"download_31075281-142c-49c4-b25c-eda9cd4b1b30\", \"meta.tsv\", 6529)"
            ],
            "text/plain": [
              "<IPython.core.display.Javascript object>"
            ]
          },
          "metadata": {}
        }
      ]
    }
  ]
}