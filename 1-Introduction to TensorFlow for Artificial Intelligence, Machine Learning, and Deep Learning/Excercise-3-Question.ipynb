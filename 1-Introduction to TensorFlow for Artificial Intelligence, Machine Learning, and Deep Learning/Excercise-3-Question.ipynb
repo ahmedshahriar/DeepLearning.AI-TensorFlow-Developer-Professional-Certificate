{
 "cells": [
  {
   "cell_type": "markdown",
   "metadata": {
    "colab_type": "text",
    "id": "iQjHqsmTAVLU"
   },
   "source": [
    "## Exercise 3\n",
    "In the videos you looked at how you would improve Fashion MNIST using Convolutions. For your exercise see if you can improve MNIST to 99.8% accuracy or more using only a single convolutional layer and a single MaxPooling 2D. You should stop training once the accuracy goes above this amount. It should happen in less than 20 epochs, so it's ok to hard code the number of epochs for training, but your training must end once it hits the above metric. If it doesn't, then you'll need to redesign your layers.\n",
    "\n",
    "I've started the code for you -- you need to finish it!\n",
    "\n",
    "When 99.8% accuracy has been hit, you should print out the string \"Reached 99.8% accuracy so cancelling training!\"\n"
   ]
  },
  {
   "cell_type": "code",
   "execution_count": 16,
   "metadata": {},
   "outputs": [],
   "source": [
    "import tensorflow as tf\n",
    "import numpy as np\n",
    "from os import path, getcwd, chdir\n",
    "\n",
    "# DO NOT CHANGE THE LINE BELOW. If you are developing in a local\n",
    "# environment, then grab mnist.npz from the Coursera Jupyter Notebook\n",
    "# and place it inside a local folder and edit the path to that location\n",
    "path = f\"{getcwd()}/../tmp2/mnist.npz\""
   ]
  },
  {
   "cell_type": "code",
   "execution_count": 2,
   "metadata": {},
   "outputs": [],
   "source": [
    "config = tf.ConfigProto()\n",
    "config.gpu_options.allow_growth = True\n",
    "sess = tf.Session(config=config)"
   ]
  },
  {
   "cell_type": "code",
   "execution_count": 50,
   "metadata": {},
   "outputs": [],
   "source": [
    "# GRADED FUNCTION: train_mnist_conv\n",
    "def train_mnist_conv():\n",
    "    # Please write your code only where you are indicated.\n",
    "    # please do not remove model fitting inline comments.\n",
    "\n",
    "    # YOUR CODE STARTS HERE\n",
    "    class CNNCallBack(tf.keras.callbacks.Callback):\n",
    "        def on_epoch_end(self, epoch, logs={}):\n",
    "            if logs.get('acc') is not None and logs.get('acc') > 0.998:\n",
    "                print(\"\\nReached 99.8% accuracy so cancelling training!\")\n",
    "                self.model.stop_training = True\n",
    "    callback = CNNCallBack()\n",
    "    \n",
    "    # YOUR CODE ENDS HERE\n",
    "\n",
    "    mnist = tf.keras.datasets.mnist\n",
    "    (training_images, training_labels), (test_images, test_labels) = mnist.load_data(path=path)\n",
    "    # YOUR CODE STARTS HERE\n",
    "    training_images = training_images[:, :, :, np.newaxis]\n",
    "    test_images = test_images[:, :, :, np.newaxis]\n",
    "    \n",
    "    training_images = training_images / 255.0\n",
    "    test_images = test_images / 255.0\n",
    "\n",
    "    # YOUR CODE ENDS HERE\n",
    "\n",
    "    model = tf.keras.models.Sequential([\n",
    "            # YOUR CODE STARTS HERE\n",
    "            # Try to simplify the architecture as much as possible. You can reach the target accuracy\n",
    "            # with just a single convolution and max pooling followed by the usual flatten and dense layers.\n",
    "            # If you get grader timeouts in your submission, try to minimize the number of convolution filters \n",
    "            # and dense units.\n",
    "        tf.keras.layers.Conv2D(64, (3,3), input_shape=(28,28,1), activation='relu'),\n",
    "        tf.keras.layers.MaxPooling2D(2,2),\n",
    "        tf.keras.layers.Conv2D(128, (3,3), activation='relu'),\n",
    "        tf.keras.layers.MaxPooling2D(2,2),\n",
    "        tf.keras.layers.Conv2D(64, (3,3), activation='relu'),\n",
    "        tf.keras.layers.MaxPooling2D(2,2),\n",
    "        \n",
    "        tf.keras.layers.Flatten(),\n",
    "        tf.keras.layers.Dense(128, activation='relu'),\n",
    "        tf.keras.layers.Dense(10, activation='softmax')\n",
    "        \n",
    "            # YOUR CODE ENDS HERE\n",
    "    ])\n",
    "\n",
    "    model.compile(optimizer='adam', loss='sparse_categorical_crossentropy', metrics=['accuracy'])\n",
    "    # model fitting\n",
    "    history = model.fit(\n",
    "        # YOUR CODE STARTS HERE\n",
    "        # Remember to set a callback function to stop the training when the target accuracy is reached. \n",
    "        # It should be met in less than 20 epochs.\n",
    "        training_images, training_labels, epochs=20, batch_size=64, callbacks=[callback]\n",
    "        # YOUR CODE ENDS HERE\n",
    "    )\n",
    "    # model fitting\n",
    "    return history.epoch, history.history['acc'][-1]\n",
    "\n"
   ]
  },
  {
   "cell_type": "code",
   "execution_count": 51,
   "metadata": {},
   "outputs": [
    {
     "name": "stdout",
     "output_type": "stream",
     "text": [
      "Epoch 1/20\n",
      "60000/60000 [==============================] - 10s 160us/sample - loss: 0.2223 - acc: 0.9317\n",
      "Epoch 2/20\n",
      "60000/60000 [==============================] - 10s 173us/sample - loss: 0.0665 - acc: 0.9793\n",
      "Epoch 3/20\n",
      "60000/60000 [==============================] - 11s 184us/sample - loss: 0.0485 - acc: 0.9848\n",
      "Epoch 4/20\n",
      "60000/60000 [==============================] - 11s 177us/sample - loss: 0.0363 - acc: 0.9886\n",
      "Epoch 5/20\n",
      "60000/60000 [==============================] - 9s 153us/sample - loss: 0.0293 - acc: 0.9911\n",
      "Epoch 6/20\n",
      "60000/60000 [==============================] - 10s 165us/sample - loss: 0.0235 - acc: 0.9927\n",
      "Epoch 7/20\n",
      "60000/60000 [==============================] - 10s 160us/sample - loss: 0.0194 - acc: 0.9938\n",
      "Epoch 8/20\n",
      "60000/60000 [==============================] - 10s 165us/sample - loss: 0.0183 - acc: 0.9941\n",
      "Epoch 9/20\n",
      "60000/60000 [==============================] - 10s 168us/sample - loss: 0.0142 - acc: 0.9952\n",
      "Epoch 10/20\n",
      "60000/60000 [==============================] - 10s 165us/sample - loss: 0.0116 - acc: 0.9962\n",
      "Epoch 11/20\n",
      "60000/60000 [==============================] - 10s 160us/sample - loss: 0.0109 - acc: 0.9965\n",
      "Epoch 12/20\n",
      "60000/60000 [==============================] - 10s 163us/sample - loss: 0.0078 - acc: 0.9973\n",
      "Epoch 13/20\n",
      "60000/60000 [==============================] - 10s 166us/sample - loss: 0.0128 - acc: 0.9957\n",
      "Epoch 14/20\n",
      "60000/60000 [==============================] - 9s 155us/sample - loss: 0.0068 - acc: 0.9979\n",
      "Epoch 15/20\n",
      "60000/60000 [==============================] - 9s 143us/sample - loss: 0.0072 - acc: 0.9974\n",
      "Epoch 16/20\n",
      "60000/60000 [==============================] - 10s 164us/sample - loss: 0.0083 - acc: 0.9973\n",
      "Epoch 17/20\n",
      "59968/60000 [============================>.] - ETA: 0s - loss: 0.0060 - acc: 0.9981Reached 99.8% accuracy so cancelling training!\n",
      "60000/60000 [==============================] - 10s 165us/sample - loss: 0.0060 - acc: 0.9981\n"
     ]
    }
   ],
   "source": [
    "_, _ = train_mnist_conv()"
   ]
  },
  {
   "cell_type": "code",
   "execution_count": null,
   "metadata": {},
   "outputs": [],
   "source": [
    "# Now click the 'Submit Assignment' button above.\n",
    "# Once that is complete, please run the following two cells to save your work and close the notebook"
   ]
  },
  {
   "cell_type": "code",
   "execution_count": null,
   "metadata": {},
   "outputs": [],
   "source": [
    "%%javascript\n",
    "<!-- Save the notebook -->\n",
    "IPython.notebook.save_checkpoint();"
   ]
  },
  {
   "cell_type": "code",
   "execution_count": null,
   "metadata": {},
   "outputs": [],
   "source": [
    "%%javascript\n",
    "IPython.notebook.session.delete();\n",
    "window.onbeforeunload = null\n",
    "setTimeout(function() { window.close(); }, 1000);"
   ]
  }
 ],
 "metadata": {
  "coursera": {
   "course_slug": "introduction-tensorflow",
   "graded_item_id": "ml06H",
   "launcher_item_id": "hQF8A"
  },
  "kernelspec": {
   "display_name": "Python 3",
   "language": "python",
   "name": "python3"
  },
  "language_info": {
   "codemirror_mode": {
    "name": "ipython",
    "version": 3
   },
   "file_extension": ".py",
   "mimetype": "text/x-python",
   "name": "python",
   "nbconvert_exporter": "python",
   "pygments_lexer": "ipython3",
   "version": "3.6.8"
  }
 },
 "nbformat": 4,
 "nbformat_minor": 1
}
